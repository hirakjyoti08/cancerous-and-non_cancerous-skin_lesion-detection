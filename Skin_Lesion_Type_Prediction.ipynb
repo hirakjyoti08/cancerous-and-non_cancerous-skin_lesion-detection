{
  "cells": [
    {
      "cell_type": "code",
      "execution_count": 1,
      "metadata": {
        "id": "efqGNew6A1JV",
        "colab": {
          "base_uri": "https://localhost:8080/"
        },
        "outputId": "1e708567-9fe0-40ab-9d67-6edb47a0035d"
      },
      "outputs": [
        {
          "output_type": "stream",
          "name": "stdout",
          "text": [
            "nvcc: NVIDIA (R) Cuda compiler driver\n",
            "Copyright (c) 2005-2022 NVIDIA Corporation\n",
            "Built on Wed_Sep_21_10:33:58_PDT_2022\n",
            "Cuda compilation tools, release 11.8, V11.8.89\n",
            "Build cuda_11.8.r11.8/compiler.31833905_0\n"
          ]
        }
      ],
      "source": [
        "!nvcc --version"
      ]
    },
    {
      "cell_type": "code",
      "execution_count": 3,
      "metadata": {
        "id": "1zAshS_LyTMj",
        "colab": {
          "base_uri": "https://localhost:8080/"
        },
        "outputId": "8c1f0588-08be-46b7-e3b8-32dd8e34901b"
      },
      "outputs": [
        {
          "output_type": "stream",
          "name": "stdout",
          "text": [
            "Drive already mounted at /content/drive; to attempt to forcibly remount, call drive.mount(\"/content/drive\", force_remount=True).\n"
          ]
        }
      ],
      "source": [
        "from google.colab import drive\n",
        "drive.mount('/content/drive')"
      ]
    },
    {
      "cell_type": "markdown",
      "metadata": {
        "id": "68AqAZXWyS7T"
      },
      "source": []
    },
    {
      "cell_type": "code",
      "execution_count": 4,
      "metadata": {
        "id": "O5WfMBsNwcjy"
      },
      "outputs": [],
      "source": [
        "%matplotlib inline\n",
        "# python libraties\n",
        "import os, cv2,itertools\n",
        "import matplotlib.pyplot as plt\n",
        "import numpy as np\n",
        "import pandas as pd\n",
        "from tqdm import tqdm\n",
        "from glob import glob\n",
        "from PIL import Image\n",
        "\n",
        "# pytorch libraries\n",
        "import torch\n",
        "from torch import optim,nn\n",
        "from torch.autograd import Variable\n",
        "from torch.utils.data import DataLoader,Dataset\n",
        "from torchvision import models,transforms\n",
        "\n",
        "# sklearn libraries\n",
        "from sklearn.metrics import confusion_matrix\n",
        "from sklearn.model_selection import train_test_split\n",
        "from sklearn.metrics import classification_report\n",
        "\n",
        "# ensure results are reproducible\n",
        "np.random.seed(10)\n",
        "torch.manual_seed(10)\n",
        "torch.cuda.manual_seed(10)\n",
        "\n"
      ]
    },
    {
      "cell_type": "code",
      "execution_count": 5,
      "metadata": {
        "id": "cbrKkcRvz2zE",
        "colab": {
          "base_uri": "https://localhost:8080/"
        },
        "outputId": "1c471a07-1de6-4e74-ab1b-dad8be6f465d"
      },
      "outputs": [
        {
          "output_type": "stream",
          "name": "stdout",
          "text": [
            "[Errno 2] No such file or directory: '/content/drive/MyDrive/mlDataset'\n",
            "/content\n"
          ]
        }
      ],
      "source": [
        "%cd /content/drive/MyDrive/mlDataset\n"
      ]
    },
    {
      "cell_type": "code",
      "execution_count": 6,
      "metadata": {
        "id": "8TdcWdY818kl",
        "colab": {
          "base_uri": "https://localhost:8080/"
        },
        "outputId": "c465dd11-a40a-4d67-e38e-0f65a7b49de9"
      },
      "outputs": [
        {
          "output_type": "stream",
          "name": "stdout",
          "text": [
            "['HAM10000_metadata.csv', 'hmnist_28_28_L.csv', 'hmnist_8_8_RGB.csv', 'hmnist_8_8_L.csv', 'hmnist_28_28_RGB.csv', 'HAM10000_images_part_1', 'HAM10000_images_part_2', 'model', '.ipynb_checkpoints']\n"
          ]
        }
      ],
      "source": [
        "import os\n",
        "print(os.listdir('/content/drive/MyDrive/mldataset'))\n",
        "\n"
      ]
    },
    {
      "cell_type": "markdown",
      "metadata": {
        "id": "a0PQb-40wcj5"
      },
      "source": [
        "# Load data"
      ]
    },
    {
      "cell_type": "code",
      "execution_count": 7,
      "metadata": {
        "id": "wqg59_Kqwcj6"
      },
      "outputs": [],
      "source": [
        "data_dir = '/content/drive/MyDrive/mldataset'\n",
        "all_image_path = glob(os.path.join(data_dir, '*', '*.jpg'))\n",
        "imageid_path_dict = {os.path.splitext(os.path.basename(x))[0]: x for x in all_image_path}\n",
        "lesion_type_dict = {\n",
        "    'nv': 'Melanocytic nevi',\n",
        "    'mel': 'dermatofibroma',\n",
        "    'bkl': 'Benign keratosis-like lesions ',\n",
        "    'bcc': 'Basal cell carcinoma',\n",
        "    'akiec': 'Actinic keratoses',\n",
        "    'vasc': 'Vascular lesions',\n",
        "    'df': 'Dermatofibroma'\n",
        "}"
      ]
    },
    {
      "cell_type": "code",
      "execution_count": 8,
      "metadata": {
        "id": "eYevzhUhwcj7"
      },
      "outputs": [],
      "source": [
        "def compute_img_mean_std(image_paths):\n",
        "    \"\"\"\n",
        "        computing the mean and std of three channel on the whole dataset,\n",
        "        first we should normalize the image from 0-255 to 0-1\n",
        "    \"\"\"\n",
        "\n",
        "    img_h, img_w = 224, 224\n",
        "    imgs = []\n",
        "    means, stdevs = [], []\n",
        "\n",
        "    for i in tqdm(range(len(image_paths))):\n",
        "        img = cv2.imread(image_paths[i])\n",
        "        img = cv2.resize(img, (img_h, img_w))\n",
        "        imgs.append(img)\n",
        "\n",
        "    imgs = np.stack(imgs, axis=3)\n",
        "    print(imgs.shape)\n",
        "\n",
        "    imgs = imgs.astype(np.float32) / 255.\n",
        "\n",
        "    for i in range(3):\n",
        "        pixels = imgs[:, :, i, :].ravel()  # resize to one row\n",
        "        means.append(np.mean(pixels))\n",
        "        stdevs.append(np.std(pixels))\n",
        "\n",
        "    means.reverse()  # BGR --> RGB\n",
        "    stdevs.reverse()\n",
        "\n",
        "    print(\"normMean = {}\".format(means))\n",
        "    print(\"normStd = {}\".format(stdevs))\n",
        "    return means,stdevs"
      ]
    },
    {
      "cell_type": "code",
      "execution_count": 9,
      "metadata": {
        "id": "MGuFkh8vwcj8"
      },
      "outputs": [],
      "source": [
        "# Values stored to save future run time\n",
        "norm_mean = [0.7630392, 0.5456477, 0.57004845]\n",
        "norm_std = [0.1409286, 0.15261266, 0.16997074]"
      ]
    },
    {
      "cell_type": "code",
      "execution_count": 10,
      "metadata": {
        "id": "xN26Nsdswcj9",
        "colab": {
          "base_uri": "https://localhost:8080/",
          "height": 206
        },
        "outputId": "ffee66f2-0dc0-4aef-ec8e-148d9794a6c4"
      },
      "outputs": [
        {
          "output_type": "execute_result",
          "data": {
            "text/plain": [
              "     lesion_id      image_id   dx dx_type   age   sex localization  \\\n",
              "0  HAM_0000118  ISIC_0027419  bkl   histo  80.0  male        scalp   \n",
              "1  HAM_0000118  ISIC_0025030  bkl   histo  80.0  male        scalp   \n",
              "2  HAM_0002730  ISIC_0026769  bkl   histo  80.0  male        scalp   \n",
              "3  HAM_0002730  ISIC_0025661  bkl   histo  80.0  male        scalp   \n",
              "4  HAM_0001466  ISIC_0031633  bkl   histo  75.0  male          ear   \n",
              "\n",
              "                                                path  \\\n",
              "0  /content/drive/MyDrive/mldataset/HAM10000_imag...   \n",
              "1  /content/drive/MyDrive/mldataset/HAM10000_imag...   \n",
              "2  /content/drive/MyDrive/mldataset/HAM10000_imag...   \n",
              "3  /content/drive/MyDrive/mldataset/HAM10000_imag...   \n",
              "4  /content/drive/MyDrive/mldataset/HAM10000_imag...   \n",
              "\n",
              "                        cell_type  cell_type_idx  \n",
              "0  Benign keratosis-like lesions               2  \n",
              "1  Benign keratosis-like lesions               2  \n",
              "2  Benign keratosis-like lesions               2  \n",
              "3  Benign keratosis-like lesions               2  \n",
              "4  Benign keratosis-like lesions               2  "
            ],
            "text/html": [
              "\n",
              "  <div id=\"df-f057bc8c-6f4c-4645-90d1-37140198ce1a\">\n",
              "    <div class=\"colab-df-container\">\n",
              "      <div>\n",
              "<style scoped>\n",
              "    .dataframe tbody tr th:only-of-type {\n",
              "        vertical-align: middle;\n",
              "    }\n",
              "\n",
              "    .dataframe tbody tr th {\n",
              "        vertical-align: top;\n",
              "    }\n",
              "\n",
              "    .dataframe thead th {\n",
              "        text-align: right;\n",
              "    }\n",
              "</style>\n",
              "<table border=\"1\" class=\"dataframe\">\n",
              "  <thead>\n",
              "    <tr style=\"text-align: right;\">\n",
              "      <th></th>\n",
              "      <th>lesion_id</th>\n",
              "      <th>image_id</th>\n",
              "      <th>dx</th>\n",
              "      <th>dx_type</th>\n",
              "      <th>age</th>\n",
              "      <th>sex</th>\n",
              "      <th>localization</th>\n",
              "      <th>path</th>\n",
              "      <th>cell_type</th>\n",
              "      <th>cell_type_idx</th>\n",
              "    </tr>\n",
              "  </thead>\n",
              "  <tbody>\n",
              "    <tr>\n",
              "      <th>0</th>\n",
              "      <td>HAM_0000118</td>\n",
              "      <td>ISIC_0027419</td>\n",
              "      <td>bkl</td>\n",
              "      <td>histo</td>\n",
              "      <td>80.0</td>\n",
              "      <td>male</td>\n",
              "      <td>scalp</td>\n",
              "      <td>/content/drive/MyDrive/mldataset/HAM10000_imag...</td>\n",
              "      <td>Benign keratosis-like lesions</td>\n",
              "      <td>2</td>\n",
              "    </tr>\n",
              "    <tr>\n",
              "      <th>1</th>\n",
              "      <td>HAM_0000118</td>\n",
              "      <td>ISIC_0025030</td>\n",
              "      <td>bkl</td>\n",
              "      <td>histo</td>\n",
              "      <td>80.0</td>\n",
              "      <td>male</td>\n",
              "      <td>scalp</td>\n",
              "      <td>/content/drive/MyDrive/mldataset/HAM10000_imag...</td>\n",
              "      <td>Benign keratosis-like lesions</td>\n",
              "      <td>2</td>\n",
              "    </tr>\n",
              "    <tr>\n",
              "      <th>2</th>\n",
              "      <td>HAM_0002730</td>\n",
              "      <td>ISIC_0026769</td>\n",
              "      <td>bkl</td>\n",
              "      <td>histo</td>\n",
              "      <td>80.0</td>\n",
              "      <td>male</td>\n",
              "      <td>scalp</td>\n",
              "      <td>/content/drive/MyDrive/mldataset/HAM10000_imag...</td>\n",
              "      <td>Benign keratosis-like lesions</td>\n",
              "      <td>2</td>\n",
              "    </tr>\n",
              "    <tr>\n",
              "      <th>3</th>\n",
              "      <td>HAM_0002730</td>\n",
              "      <td>ISIC_0025661</td>\n",
              "      <td>bkl</td>\n",
              "      <td>histo</td>\n",
              "      <td>80.0</td>\n",
              "      <td>male</td>\n",
              "      <td>scalp</td>\n",
              "      <td>/content/drive/MyDrive/mldataset/HAM10000_imag...</td>\n",
              "      <td>Benign keratosis-like lesions</td>\n",
              "      <td>2</td>\n",
              "    </tr>\n",
              "    <tr>\n",
              "      <th>4</th>\n",
              "      <td>HAM_0001466</td>\n",
              "      <td>ISIC_0031633</td>\n",
              "      <td>bkl</td>\n",
              "      <td>histo</td>\n",
              "      <td>75.0</td>\n",
              "      <td>male</td>\n",
              "      <td>ear</td>\n",
              "      <td>/content/drive/MyDrive/mldataset/HAM10000_imag...</td>\n",
              "      <td>Benign keratosis-like lesions</td>\n",
              "      <td>2</td>\n",
              "    </tr>\n",
              "  </tbody>\n",
              "</table>\n",
              "</div>\n",
              "      <button class=\"colab-df-convert\" onclick=\"convertToInteractive('df-f057bc8c-6f4c-4645-90d1-37140198ce1a')\"\n",
              "              title=\"Convert this dataframe to an interactive table.\"\n",
              "              style=\"display:none;\">\n",
              "        \n",
              "  <svg xmlns=\"http://www.w3.org/2000/svg\" height=\"24px\"viewBox=\"0 0 24 24\"\n",
              "       width=\"24px\">\n",
              "    <path d=\"M0 0h24v24H0V0z\" fill=\"none\"/>\n",
              "    <path d=\"M18.56 5.44l.94 2.06.94-2.06 2.06-.94-2.06-.94-.94-2.06-.94 2.06-2.06.94zm-11 1L8.5 8.5l.94-2.06 2.06-.94-2.06-.94L8.5 2.5l-.94 2.06-2.06.94zm10 10l.94 2.06.94-2.06 2.06-.94-2.06-.94-.94-2.06-.94 2.06-2.06.94z\"/><path d=\"M17.41 7.96l-1.37-1.37c-.4-.4-.92-.59-1.43-.59-.52 0-1.04.2-1.43.59L10.3 9.45l-7.72 7.72c-.78.78-.78 2.05 0 2.83L4 21.41c.39.39.9.59 1.41.59.51 0 1.02-.2 1.41-.59l7.78-7.78 2.81-2.81c.8-.78.8-2.07 0-2.86zM5.41 20L4 18.59l7.72-7.72 1.47 1.35L5.41 20z\"/>\n",
              "  </svg>\n",
              "      </button>\n",
              "      \n",
              "  <style>\n",
              "    .colab-df-container {\n",
              "      display:flex;\n",
              "      flex-wrap:wrap;\n",
              "      gap: 12px;\n",
              "    }\n",
              "\n",
              "    .colab-df-convert {\n",
              "      background-color: #E8F0FE;\n",
              "      border: none;\n",
              "      border-radius: 50%;\n",
              "      cursor: pointer;\n",
              "      display: none;\n",
              "      fill: #1967D2;\n",
              "      height: 32px;\n",
              "      padding: 0 0 0 0;\n",
              "      width: 32px;\n",
              "    }\n",
              "\n",
              "    .colab-df-convert:hover {\n",
              "      background-color: #E2EBFA;\n",
              "      box-shadow: 0px 1px 2px rgba(60, 64, 67, 0.3), 0px 1px 3px 1px rgba(60, 64, 67, 0.15);\n",
              "      fill: #174EA6;\n",
              "    }\n",
              "\n",
              "    [theme=dark] .colab-df-convert {\n",
              "      background-color: #3B4455;\n",
              "      fill: #D2E3FC;\n",
              "    }\n",
              "\n",
              "    [theme=dark] .colab-df-convert:hover {\n",
              "      background-color: #434B5C;\n",
              "      box-shadow: 0px 1px 3px 1px rgba(0, 0, 0, 0.15);\n",
              "      filter: drop-shadow(0px 1px 2px rgba(0, 0, 0, 0.3));\n",
              "      fill: #FFFFFF;\n",
              "    }\n",
              "  </style>\n",
              "\n",
              "      <script>\n",
              "        const buttonEl =\n",
              "          document.querySelector('#df-f057bc8c-6f4c-4645-90d1-37140198ce1a button.colab-df-convert');\n",
              "        buttonEl.style.display =\n",
              "          google.colab.kernel.accessAllowed ? 'block' : 'none';\n",
              "\n",
              "        async function convertToInteractive(key) {\n",
              "          const element = document.querySelector('#df-f057bc8c-6f4c-4645-90d1-37140198ce1a');\n",
              "          const dataTable =\n",
              "            await google.colab.kernel.invokeFunction('convertToInteractive',\n",
              "                                                     [key], {});\n",
              "          if (!dataTable) return;\n",
              "\n",
              "          const docLinkHtml = 'Like what you see? Visit the ' +\n",
              "            '<a target=\"_blank\" href=https://colab.research.google.com/notebooks/data_table.ipynb>data table notebook</a>'\n",
              "            + ' to learn more about interactive tables.';\n",
              "          element.innerHTML = '';\n",
              "          dataTable['output_type'] = 'display_data';\n",
              "          await google.colab.output.renderOutput(dataTable, element);\n",
              "          const docLink = document.createElement('div');\n",
              "          docLink.innerHTML = docLinkHtml;\n",
              "          element.appendChild(docLink);\n",
              "        }\n",
              "      </script>\n",
              "    </div>\n",
              "  </div>\n",
              "  "
            ]
          },
          "metadata": {},
          "execution_count": 10
        }
      ],
      "source": [
        "df_original = pd.read_csv(os.path.join(data_dir, 'HAM10000_metadata.csv'))\n",
        "df_original['path'] = df_original['image_id'].map(imageid_path_dict.get)\n",
        "df_original['cell_type'] = df_original['dx'].map(lesion_type_dict.get)\n",
        "df_original['cell_type_idx'] = pd.Categorical(df_original['cell_type']).codes\n",
        "df_original.head()"
      ]
    },
    {
      "cell_type": "code",
      "execution_count": 11,
      "metadata": {
        "id": "F8KnVxBJwcj-",
        "colab": {
          "base_uri": "https://localhost:8080/",
          "height": 423
        },
        "outputId": "60a7d643-ab67-4b39-c002-e5567d23066a"
      },
      "outputs": [
        {
          "output_type": "execute_result",
          "data": {
            "text/plain": [
              "        lesion_id  image_id  dx  dx_type  age  sex  localization  path  \\\n",
              "0     HAM_0000001         1   1        1    1    1             1     1   \n",
              "1     HAM_0000003         1   1        1    1    1             1     1   \n",
              "2     HAM_0000004         1   1        1    1    1             1     1   \n",
              "3     HAM_0000007         1   1        1    1    1             1     1   \n",
              "4     HAM_0000008         1   1        1    1    1             1     1   \n",
              "...           ...       ...  ..      ...  ...  ...           ...   ...   \n",
              "5509  HAM_0007622         1   1        1    1    1             1     1   \n",
              "5510  HAM_0007623         1   1        1    1    1             1     1   \n",
              "5511  HAM_0007624         1   1        1    1    1             1     1   \n",
              "5512  HAM_0007626         1   1        1    1    1             1     1   \n",
              "5513  HAM_0007628         1   1        1    1    1             1     1   \n",
              "\n",
              "      cell_type  cell_type_idx  \n",
              "0             1              1  \n",
              "1             1              1  \n",
              "2             1              1  \n",
              "3             1              1  \n",
              "4             1              1  \n",
              "...         ...            ...  \n",
              "5509          1              1  \n",
              "5510          1              1  \n",
              "5511          1              1  \n",
              "5512          1              1  \n",
              "5513          1              1  \n",
              "\n",
              "[5514 rows x 10 columns]"
            ],
            "text/html": [
              "\n",
              "  <div id=\"df-c7f1247d-d7c0-44f3-b109-8995e1863f9e\">\n",
              "    <div class=\"colab-df-container\">\n",
              "      <div>\n",
              "<style scoped>\n",
              "    .dataframe tbody tr th:only-of-type {\n",
              "        vertical-align: middle;\n",
              "    }\n",
              "\n",
              "    .dataframe tbody tr th {\n",
              "        vertical-align: top;\n",
              "    }\n",
              "\n",
              "    .dataframe thead th {\n",
              "        text-align: right;\n",
              "    }\n",
              "</style>\n",
              "<table border=\"1\" class=\"dataframe\">\n",
              "  <thead>\n",
              "    <tr style=\"text-align: right;\">\n",
              "      <th></th>\n",
              "      <th>lesion_id</th>\n",
              "      <th>image_id</th>\n",
              "      <th>dx</th>\n",
              "      <th>dx_type</th>\n",
              "      <th>age</th>\n",
              "      <th>sex</th>\n",
              "      <th>localization</th>\n",
              "      <th>path</th>\n",
              "      <th>cell_type</th>\n",
              "      <th>cell_type_idx</th>\n",
              "    </tr>\n",
              "  </thead>\n",
              "  <tbody>\n",
              "    <tr>\n",
              "      <th>0</th>\n",
              "      <td>HAM_0000001</td>\n",
              "      <td>1</td>\n",
              "      <td>1</td>\n",
              "      <td>1</td>\n",
              "      <td>1</td>\n",
              "      <td>1</td>\n",
              "      <td>1</td>\n",
              "      <td>1</td>\n",
              "      <td>1</td>\n",
              "      <td>1</td>\n",
              "    </tr>\n",
              "    <tr>\n",
              "      <th>1</th>\n",
              "      <td>HAM_0000003</td>\n",
              "      <td>1</td>\n",
              "      <td>1</td>\n",
              "      <td>1</td>\n",
              "      <td>1</td>\n",
              "      <td>1</td>\n",
              "      <td>1</td>\n",
              "      <td>1</td>\n",
              "      <td>1</td>\n",
              "      <td>1</td>\n",
              "    </tr>\n",
              "    <tr>\n",
              "      <th>2</th>\n",
              "      <td>HAM_0000004</td>\n",
              "      <td>1</td>\n",
              "      <td>1</td>\n",
              "      <td>1</td>\n",
              "      <td>1</td>\n",
              "      <td>1</td>\n",
              "      <td>1</td>\n",
              "      <td>1</td>\n",
              "      <td>1</td>\n",
              "      <td>1</td>\n",
              "    </tr>\n",
              "    <tr>\n",
              "      <th>3</th>\n",
              "      <td>HAM_0000007</td>\n",
              "      <td>1</td>\n",
              "      <td>1</td>\n",
              "      <td>1</td>\n",
              "      <td>1</td>\n",
              "      <td>1</td>\n",
              "      <td>1</td>\n",
              "      <td>1</td>\n",
              "      <td>1</td>\n",
              "      <td>1</td>\n",
              "    </tr>\n",
              "    <tr>\n",
              "      <th>4</th>\n",
              "      <td>HAM_0000008</td>\n",
              "      <td>1</td>\n",
              "      <td>1</td>\n",
              "      <td>1</td>\n",
              "      <td>1</td>\n",
              "      <td>1</td>\n",
              "      <td>1</td>\n",
              "      <td>1</td>\n",
              "      <td>1</td>\n",
              "      <td>1</td>\n",
              "    </tr>\n",
              "    <tr>\n",
              "      <th>...</th>\n",
              "      <td>...</td>\n",
              "      <td>...</td>\n",
              "      <td>...</td>\n",
              "      <td>...</td>\n",
              "      <td>...</td>\n",
              "      <td>...</td>\n",
              "      <td>...</td>\n",
              "      <td>...</td>\n",
              "      <td>...</td>\n",
              "      <td>...</td>\n",
              "    </tr>\n",
              "    <tr>\n",
              "      <th>5509</th>\n",
              "      <td>HAM_0007622</td>\n",
              "      <td>1</td>\n",
              "      <td>1</td>\n",
              "      <td>1</td>\n",
              "      <td>1</td>\n",
              "      <td>1</td>\n",
              "      <td>1</td>\n",
              "      <td>1</td>\n",
              "      <td>1</td>\n",
              "      <td>1</td>\n",
              "    </tr>\n",
              "    <tr>\n",
              "      <th>5510</th>\n",
              "      <td>HAM_0007623</td>\n",
              "      <td>1</td>\n",
              "      <td>1</td>\n",
              "      <td>1</td>\n",
              "      <td>1</td>\n",
              "      <td>1</td>\n",
              "      <td>1</td>\n",
              "      <td>1</td>\n",
              "      <td>1</td>\n",
              "      <td>1</td>\n",
              "    </tr>\n",
              "    <tr>\n",
              "      <th>5511</th>\n",
              "      <td>HAM_0007624</td>\n",
              "      <td>1</td>\n",
              "      <td>1</td>\n",
              "      <td>1</td>\n",
              "      <td>1</td>\n",
              "      <td>1</td>\n",
              "      <td>1</td>\n",
              "      <td>1</td>\n",
              "      <td>1</td>\n",
              "      <td>1</td>\n",
              "    </tr>\n",
              "    <tr>\n",
              "      <th>5512</th>\n",
              "      <td>HAM_0007626</td>\n",
              "      <td>1</td>\n",
              "      <td>1</td>\n",
              "      <td>1</td>\n",
              "      <td>1</td>\n",
              "      <td>1</td>\n",
              "      <td>1</td>\n",
              "      <td>1</td>\n",
              "      <td>1</td>\n",
              "      <td>1</td>\n",
              "    </tr>\n",
              "    <tr>\n",
              "      <th>5513</th>\n",
              "      <td>HAM_0007628</td>\n",
              "      <td>1</td>\n",
              "      <td>1</td>\n",
              "      <td>1</td>\n",
              "      <td>1</td>\n",
              "      <td>1</td>\n",
              "      <td>1</td>\n",
              "      <td>1</td>\n",
              "      <td>1</td>\n",
              "      <td>1</td>\n",
              "    </tr>\n",
              "  </tbody>\n",
              "</table>\n",
              "<p>5514 rows × 10 columns</p>\n",
              "</div>\n",
              "      <button class=\"colab-df-convert\" onclick=\"convertToInteractive('df-c7f1247d-d7c0-44f3-b109-8995e1863f9e')\"\n",
              "              title=\"Convert this dataframe to an interactive table.\"\n",
              "              style=\"display:none;\">\n",
              "        \n",
              "  <svg xmlns=\"http://www.w3.org/2000/svg\" height=\"24px\"viewBox=\"0 0 24 24\"\n",
              "       width=\"24px\">\n",
              "    <path d=\"M0 0h24v24H0V0z\" fill=\"none\"/>\n",
              "    <path d=\"M18.56 5.44l.94 2.06.94-2.06 2.06-.94-2.06-.94-.94-2.06-.94 2.06-2.06.94zm-11 1L8.5 8.5l.94-2.06 2.06-.94-2.06-.94L8.5 2.5l-.94 2.06-2.06.94zm10 10l.94 2.06.94-2.06 2.06-.94-2.06-.94-.94-2.06-.94 2.06-2.06.94z\"/><path d=\"M17.41 7.96l-1.37-1.37c-.4-.4-.92-.59-1.43-.59-.52 0-1.04.2-1.43.59L10.3 9.45l-7.72 7.72c-.78.78-.78 2.05 0 2.83L4 21.41c.39.39.9.59 1.41.59.51 0 1.02-.2 1.41-.59l7.78-7.78 2.81-2.81c.8-.78.8-2.07 0-2.86zM5.41 20L4 18.59l7.72-7.72 1.47 1.35L5.41 20z\"/>\n",
              "  </svg>\n",
              "      </button>\n",
              "      \n",
              "  <style>\n",
              "    .colab-df-container {\n",
              "      display:flex;\n",
              "      flex-wrap:wrap;\n",
              "      gap: 12px;\n",
              "    }\n",
              "\n",
              "    .colab-df-convert {\n",
              "      background-color: #E8F0FE;\n",
              "      border: none;\n",
              "      border-radius: 50%;\n",
              "      cursor: pointer;\n",
              "      display: none;\n",
              "      fill: #1967D2;\n",
              "      height: 32px;\n",
              "      padding: 0 0 0 0;\n",
              "      width: 32px;\n",
              "    }\n",
              "\n",
              "    .colab-df-convert:hover {\n",
              "      background-color: #E2EBFA;\n",
              "      box-shadow: 0px 1px 2px rgba(60, 64, 67, 0.3), 0px 1px 3px 1px rgba(60, 64, 67, 0.15);\n",
              "      fill: #174EA6;\n",
              "    }\n",
              "\n",
              "    [theme=dark] .colab-df-convert {\n",
              "      background-color: #3B4455;\n",
              "      fill: #D2E3FC;\n",
              "    }\n",
              "\n",
              "    [theme=dark] .colab-df-convert:hover {\n",
              "      background-color: #434B5C;\n",
              "      box-shadow: 0px 1px 3px 1px rgba(0, 0, 0, 0.15);\n",
              "      filter: drop-shadow(0px 1px 2px rgba(0, 0, 0, 0.3));\n",
              "      fill: #FFFFFF;\n",
              "    }\n",
              "  </style>\n",
              "\n",
              "      <script>\n",
              "        const buttonEl =\n",
              "          document.querySelector('#df-c7f1247d-d7c0-44f3-b109-8995e1863f9e button.colab-df-convert');\n",
              "        buttonEl.style.display =\n",
              "          google.colab.kernel.accessAllowed ? 'block' : 'none';\n",
              "\n",
              "        async function convertToInteractive(key) {\n",
              "          const element = document.querySelector('#df-c7f1247d-d7c0-44f3-b109-8995e1863f9e');\n",
              "          const dataTable =\n",
              "            await google.colab.kernel.invokeFunction('convertToInteractive',\n",
              "                                                     [key], {});\n",
              "          if (!dataTable) return;\n",
              "\n",
              "          const docLinkHtml = 'Like what you see? Visit the ' +\n",
              "            '<a target=\"_blank\" href=https://colab.research.google.com/notebooks/data_table.ipynb>data table notebook</a>'\n",
              "            + ' to learn more about interactive tables.';\n",
              "          element.innerHTML = '';\n",
              "          dataTable['output_type'] = 'display_data';\n",
              "          await google.colab.output.renderOutput(dataTable, element);\n",
              "          const docLink = document.createElement('div');\n",
              "          docLink.innerHTML = docLinkHtml;\n",
              "          element.appendChild(docLink);\n",
              "        }\n",
              "      </script>\n",
              "    </div>\n",
              "  </div>\n",
              "  "
            ]
          },
          "metadata": {},
          "execution_count": 11
        }
      ],
      "source": [
        "# Determine how many images are associated with each lesion_id\n",
        "df_undup = df_original.groupby('lesion_id').count()\n",
        "# Filter out lesion_id's that have only one image associated with it\n",
        "df_undup = df_undup[df_undup['image_id'] == 1]\n",
        "df_undup.reset_index(inplace=True)\n",
        "df_undup"
      ]
    },
    {
      "cell_type": "markdown",
      "source": [
        "##DATA PREPROCESSING"
      ],
      "metadata": {
        "id": "RxWIbVBufk4j"
      }
    },
    {
      "cell_type": "code",
      "execution_count": 12,
      "metadata": {
        "id": "azvT20yawcj_",
        "colab": {
          "base_uri": "https://localhost:8080/",
          "height": 423
        },
        "outputId": "6d8aa0e2-6e02-4ef6-d054-21760e9c9ad3"
      },
      "outputs": [
        {
          "output_type": "execute_result",
          "data": {
            "text/plain": [
              "         lesion_id      image_id     dx dx_type   age     sex localization  \\\n",
              "10     HAM_0001396  ISIC_0025276    bkl   histo  55.0  female        trunk   \n",
              "15     HAM_0007207  ISIC_0031326    bkl   histo  65.0    male         back   \n",
              "20     HAM_0006071  ISIC_0032343    bkl   histo  70.0  female         face   \n",
              "33     HAM_0005612  ISIC_0024981    bkl   histo  80.0    male        scalp   \n",
              "34     HAM_0005388  ISIC_0027815    bkl   histo  80.0    male        chest   \n",
              "...            ...           ...    ...     ...   ...     ...          ...   \n",
              "9988   HAM_0001036  ISIC_0027588  akiec   histo  50.0  female         face   \n",
              "9990   HAM_0004462  ISIC_0027334  akiec   histo  45.0    male        trunk   \n",
              "9991   HAM_0001152  ISIC_0030133  akiec   histo  65.0    male         face   \n",
              "10001  HAM_0000020  ISIC_0031922  akiec   histo  60.0  female         face   \n",
              "10008  HAM_0001576  ISIC_0033705  akiec   histo  60.0    male         face   \n",
              "\n",
              "                                                    path  \\\n",
              "10     /content/drive/MyDrive/mldataset/HAM10000_imag...   \n",
              "15     /content/drive/MyDrive/mldataset/HAM10000_imag...   \n",
              "20     /content/drive/MyDrive/mldataset/HAM10000_imag...   \n",
              "33     /content/drive/MyDrive/mldataset/HAM10000_imag...   \n",
              "34     /content/drive/MyDrive/mldataset/HAM10000_imag...   \n",
              "...                                                  ...   \n",
              "9988   /content/drive/MyDrive/mldataset/HAM10000_imag...   \n",
              "9990   /content/drive/MyDrive/mldataset/HAM10000_imag...   \n",
              "9991   /content/drive/MyDrive/mldataset/HAM10000_imag...   \n",
              "10001  /content/drive/MyDrive/mldataset/HAM10000_imag...   \n",
              "10008  /content/drive/MyDrive/mldataset/HAM10000_imag...   \n",
              "\n",
              "                            cell_type  cell_type_idx    duplicates  \n",
              "10     Benign keratosis-like lesions               2  unduplicated  \n",
              "15     Benign keratosis-like lesions               2  unduplicated  \n",
              "20     Benign keratosis-like lesions               2  unduplicated  \n",
              "33     Benign keratosis-like lesions               2  unduplicated  \n",
              "34     Benign keratosis-like lesions               2  unduplicated  \n",
              "...                               ...            ...           ...  \n",
              "9988                Actinic keratoses              0  unduplicated  \n",
              "9990                Actinic keratoses              0  unduplicated  \n",
              "9991                Actinic keratoses              0  unduplicated  \n",
              "10001               Actinic keratoses              0  unduplicated  \n",
              "10008               Actinic keratoses              0  unduplicated  \n",
              "\n",
              "[5514 rows x 11 columns]"
            ],
            "text/html": [
              "\n",
              "  <div id=\"df-657b81c7-41b6-4c03-9f41-57467fd69cf6\">\n",
              "    <div class=\"colab-df-container\">\n",
              "      <div>\n",
              "<style scoped>\n",
              "    .dataframe tbody tr th:only-of-type {\n",
              "        vertical-align: middle;\n",
              "    }\n",
              "\n",
              "    .dataframe tbody tr th {\n",
              "        vertical-align: top;\n",
              "    }\n",
              "\n",
              "    .dataframe thead th {\n",
              "        text-align: right;\n",
              "    }\n",
              "</style>\n",
              "<table border=\"1\" class=\"dataframe\">\n",
              "  <thead>\n",
              "    <tr style=\"text-align: right;\">\n",
              "      <th></th>\n",
              "      <th>lesion_id</th>\n",
              "      <th>image_id</th>\n",
              "      <th>dx</th>\n",
              "      <th>dx_type</th>\n",
              "      <th>age</th>\n",
              "      <th>sex</th>\n",
              "      <th>localization</th>\n",
              "      <th>path</th>\n",
              "      <th>cell_type</th>\n",
              "      <th>cell_type_idx</th>\n",
              "      <th>duplicates</th>\n",
              "    </tr>\n",
              "  </thead>\n",
              "  <tbody>\n",
              "    <tr>\n",
              "      <th>10</th>\n",
              "      <td>HAM_0001396</td>\n",
              "      <td>ISIC_0025276</td>\n",
              "      <td>bkl</td>\n",
              "      <td>histo</td>\n",
              "      <td>55.0</td>\n",
              "      <td>female</td>\n",
              "      <td>trunk</td>\n",
              "      <td>/content/drive/MyDrive/mldataset/HAM10000_imag...</td>\n",
              "      <td>Benign keratosis-like lesions</td>\n",
              "      <td>2</td>\n",
              "      <td>unduplicated</td>\n",
              "    </tr>\n",
              "    <tr>\n",
              "      <th>15</th>\n",
              "      <td>HAM_0007207</td>\n",
              "      <td>ISIC_0031326</td>\n",
              "      <td>bkl</td>\n",
              "      <td>histo</td>\n",
              "      <td>65.0</td>\n",
              "      <td>male</td>\n",
              "      <td>back</td>\n",
              "      <td>/content/drive/MyDrive/mldataset/HAM10000_imag...</td>\n",
              "      <td>Benign keratosis-like lesions</td>\n",
              "      <td>2</td>\n",
              "      <td>unduplicated</td>\n",
              "    </tr>\n",
              "    <tr>\n",
              "      <th>20</th>\n",
              "      <td>HAM_0006071</td>\n",
              "      <td>ISIC_0032343</td>\n",
              "      <td>bkl</td>\n",
              "      <td>histo</td>\n",
              "      <td>70.0</td>\n",
              "      <td>female</td>\n",
              "      <td>face</td>\n",
              "      <td>/content/drive/MyDrive/mldataset/HAM10000_imag...</td>\n",
              "      <td>Benign keratosis-like lesions</td>\n",
              "      <td>2</td>\n",
              "      <td>unduplicated</td>\n",
              "    </tr>\n",
              "    <tr>\n",
              "      <th>33</th>\n",
              "      <td>HAM_0005612</td>\n",
              "      <td>ISIC_0024981</td>\n",
              "      <td>bkl</td>\n",
              "      <td>histo</td>\n",
              "      <td>80.0</td>\n",
              "      <td>male</td>\n",
              "      <td>scalp</td>\n",
              "      <td>/content/drive/MyDrive/mldataset/HAM10000_imag...</td>\n",
              "      <td>Benign keratosis-like lesions</td>\n",
              "      <td>2</td>\n",
              "      <td>unduplicated</td>\n",
              "    </tr>\n",
              "    <tr>\n",
              "      <th>34</th>\n",
              "      <td>HAM_0005388</td>\n",
              "      <td>ISIC_0027815</td>\n",
              "      <td>bkl</td>\n",
              "      <td>histo</td>\n",
              "      <td>80.0</td>\n",
              "      <td>male</td>\n",
              "      <td>chest</td>\n",
              "      <td>/content/drive/MyDrive/mldataset/HAM10000_imag...</td>\n",
              "      <td>Benign keratosis-like lesions</td>\n",
              "      <td>2</td>\n",
              "      <td>unduplicated</td>\n",
              "    </tr>\n",
              "    <tr>\n",
              "      <th>...</th>\n",
              "      <td>...</td>\n",
              "      <td>...</td>\n",
              "      <td>...</td>\n",
              "      <td>...</td>\n",
              "      <td>...</td>\n",
              "      <td>...</td>\n",
              "      <td>...</td>\n",
              "      <td>...</td>\n",
              "      <td>...</td>\n",
              "      <td>...</td>\n",
              "      <td>...</td>\n",
              "    </tr>\n",
              "    <tr>\n",
              "      <th>9988</th>\n",
              "      <td>HAM_0001036</td>\n",
              "      <td>ISIC_0027588</td>\n",
              "      <td>akiec</td>\n",
              "      <td>histo</td>\n",
              "      <td>50.0</td>\n",
              "      <td>female</td>\n",
              "      <td>face</td>\n",
              "      <td>/content/drive/MyDrive/mldataset/HAM10000_imag...</td>\n",
              "      <td>Actinic keratoses</td>\n",
              "      <td>0</td>\n",
              "      <td>unduplicated</td>\n",
              "    </tr>\n",
              "    <tr>\n",
              "      <th>9990</th>\n",
              "      <td>HAM_0004462</td>\n",
              "      <td>ISIC_0027334</td>\n",
              "      <td>akiec</td>\n",
              "      <td>histo</td>\n",
              "      <td>45.0</td>\n",
              "      <td>male</td>\n",
              "      <td>trunk</td>\n",
              "      <td>/content/drive/MyDrive/mldataset/HAM10000_imag...</td>\n",
              "      <td>Actinic keratoses</td>\n",
              "      <td>0</td>\n",
              "      <td>unduplicated</td>\n",
              "    </tr>\n",
              "    <tr>\n",
              "      <th>9991</th>\n",
              "      <td>HAM_0001152</td>\n",
              "      <td>ISIC_0030133</td>\n",
              "      <td>akiec</td>\n",
              "      <td>histo</td>\n",
              "      <td>65.0</td>\n",
              "      <td>male</td>\n",
              "      <td>face</td>\n",
              "      <td>/content/drive/MyDrive/mldataset/HAM10000_imag...</td>\n",
              "      <td>Actinic keratoses</td>\n",
              "      <td>0</td>\n",
              "      <td>unduplicated</td>\n",
              "    </tr>\n",
              "    <tr>\n",
              "      <th>10001</th>\n",
              "      <td>HAM_0000020</td>\n",
              "      <td>ISIC_0031922</td>\n",
              "      <td>akiec</td>\n",
              "      <td>histo</td>\n",
              "      <td>60.0</td>\n",
              "      <td>female</td>\n",
              "      <td>face</td>\n",
              "      <td>/content/drive/MyDrive/mldataset/HAM10000_imag...</td>\n",
              "      <td>Actinic keratoses</td>\n",
              "      <td>0</td>\n",
              "      <td>unduplicated</td>\n",
              "    </tr>\n",
              "    <tr>\n",
              "      <th>10008</th>\n",
              "      <td>HAM_0001576</td>\n",
              "      <td>ISIC_0033705</td>\n",
              "      <td>akiec</td>\n",
              "      <td>histo</td>\n",
              "      <td>60.0</td>\n",
              "      <td>male</td>\n",
              "      <td>face</td>\n",
              "      <td>/content/drive/MyDrive/mldataset/HAM10000_imag...</td>\n",
              "      <td>Actinic keratoses</td>\n",
              "      <td>0</td>\n",
              "      <td>unduplicated</td>\n",
              "    </tr>\n",
              "  </tbody>\n",
              "</table>\n",
              "<p>5514 rows × 11 columns</p>\n",
              "</div>\n",
              "      <button class=\"colab-df-convert\" onclick=\"convertToInteractive('df-657b81c7-41b6-4c03-9f41-57467fd69cf6')\"\n",
              "              title=\"Convert this dataframe to an interactive table.\"\n",
              "              style=\"display:none;\">\n",
              "        \n",
              "  <svg xmlns=\"http://www.w3.org/2000/svg\" height=\"24px\"viewBox=\"0 0 24 24\"\n",
              "       width=\"24px\">\n",
              "    <path d=\"M0 0h24v24H0V0z\" fill=\"none\"/>\n",
              "    <path d=\"M18.56 5.44l.94 2.06.94-2.06 2.06-.94-2.06-.94-.94-2.06-.94 2.06-2.06.94zm-11 1L8.5 8.5l.94-2.06 2.06-.94-2.06-.94L8.5 2.5l-.94 2.06-2.06.94zm10 10l.94 2.06.94-2.06 2.06-.94-2.06-.94-.94-2.06-.94 2.06-2.06.94z\"/><path d=\"M17.41 7.96l-1.37-1.37c-.4-.4-.92-.59-1.43-.59-.52 0-1.04.2-1.43.59L10.3 9.45l-7.72 7.72c-.78.78-.78 2.05 0 2.83L4 21.41c.39.39.9.59 1.41.59.51 0 1.02-.2 1.41-.59l7.78-7.78 2.81-2.81c.8-.78.8-2.07 0-2.86zM5.41 20L4 18.59l7.72-7.72 1.47 1.35L5.41 20z\"/>\n",
              "  </svg>\n",
              "      </button>\n",
              "      \n",
              "  <style>\n",
              "    .colab-df-container {\n",
              "      display:flex;\n",
              "      flex-wrap:wrap;\n",
              "      gap: 12px;\n",
              "    }\n",
              "\n",
              "    .colab-df-convert {\n",
              "      background-color: #E8F0FE;\n",
              "      border: none;\n",
              "      border-radius: 50%;\n",
              "      cursor: pointer;\n",
              "      display: none;\n",
              "      fill: #1967D2;\n",
              "      height: 32px;\n",
              "      padding: 0 0 0 0;\n",
              "      width: 32px;\n",
              "    }\n",
              "\n",
              "    .colab-df-convert:hover {\n",
              "      background-color: #E2EBFA;\n",
              "      box-shadow: 0px 1px 2px rgba(60, 64, 67, 0.3), 0px 1px 3px 1px rgba(60, 64, 67, 0.15);\n",
              "      fill: #174EA6;\n",
              "    }\n",
              "\n",
              "    [theme=dark] .colab-df-convert {\n",
              "      background-color: #3B4455;\n",
              "      fill: #D2E3FC;\n",
              "    }\n",
              "\n",
              "    [theme=dark] .colab-df-convert:hover {\n",
              "      background-color: #434B5C;\n",
              "      box-shadow: 0px 1px 3px 1px rgba(0, 0, 0, 0.15);\n",
              "      filter: drop-shadow(0px 1px 2px rgba(0, 0, 0, 0.3));\n",
              "      fill: #FFFFFF;\n",
              "    }\n",
              "  </style>\n",
              "\n",
              "      <script>\n",
              "        const buttonEl =\n",
              "          document.querySelector('#df-657b81c7-41b6-4c03-9f41-57467fd69cf6 button.colab-df-convert');\n",
              "        buttonEl.style.display =\n",
              "          google.colab.kernel.accessAllowed ? 'block' : 'none';\n",
              "\n",
              "        async function convertToInteractive(key) {\n",
              "          const element = document.querySelector('#df-657b81c7-41b6-4c03-9f41-57467fd69cf6');\n",
              "          const dataTable =\n",
              "            await google.colab.kernel.invokeFunction('convertToInteractive',\n",
              "                                                     [key], {});\n",
              "          if (!dataTable) return;\n",
              "\n",
              "          const docLinkHtml = 'Like what you see? Visit the ' +\n",
              "            '<a target=\"_blank\" href=https://colab.research.google.com/notebooks/data_table.ipynb>data table notebook</a>'\n",
              "            + ' to learn more about interactive tables.';\n",
              "          element.innerHTML = '';\n",
              "          dataTable['output_type'] = 'display_data';\n",
              "          await google.colab.output.renderOutput(dataTable, element);\n",
              "          const docLink = document.createElement('div');\n",
              "          docLink.innerHTML = docLinkHtml;\n",
              "          element.appendChild(docLink);\n",
              "        }\n",
              "      </script>\n",
              "    </div>\n",
              "  </div>\n",
              "  "
            ]
          },
          "metadata": {},
          "execution_count": 12
        }
      ],
      "source": [
        "# Identify lesion_id's that have duplicate images and those that have only one image.\n",
        "def get_duplicates(x):\n",
        "    unique_list = list(df_undup['lesion_id'])\n",
        "    if x in unique_list:\n",
        "        return 'unduplicated'\n",
        "    else:\n",
        "        return 'duplicated'\n",
        "\n",
        "# Create a new colum that is a copy of the lesion_id column\n",
        "df_original['duplicates'] = df_original['lesion_id']\n",
        "# Apply the function to this new column\n",
        "df_original['duplicates'] = df_original['duplicates'].apply(get_duplicates)\n",
        "df_original[df_original['duplicates'] == 'unduplicated']\n"
      ]
    },
    {
      "cell_type": "code",
      "execution_count": 13,
      "metadata": {
        "id": "So-0zcgzwckA",
        "colab": {
          "base_uri": "https://localhost:8080/"
        },
        "outputId": "a39f5553-40de-441f-ad4e-d82800877a75"
      },
      "outputs": [
        {
          "output_type": "execute_result",
          "data": {
            "text/plain": [
              "unduplicated    5514\n",
              "duplicated      4501\n",
              "Name: duplicates, dtype: int64"
            ]
          },
          "metadata": {},
          "execution_count": 13
        }
      ],
      "source": [
        "df_original['duplicates'].value_counts()"
      ]
    },
    {
      "cell_type": "code",
      "execution_count": 14,
      "metadata": {
        "id": "kOUpNkjKwckB",
        "colab": {
          "base_uri": "https://localhost:8080/"
        },
        "outputId": "8acd41cd-6260-4d70-f861-59367b5452b3"
      },
      "outputs": [
        {
          "output_type": "execute_result",
          "data": {
            "text/plain": [
              "(5514, 11)"
            ]
          },
          "metadata": {},
          "execution_count": 14
        }
      ],
      "source": [
        "# Filter out images that don't have duplicates\n",
        "df_undup = df_original[df_original['duplicates'] == 'unduplicated']\n",
        "df_undup.shape"
      ]
    },
    {
      "cell_type": "code",
      "execution_count": 15,
      "metadata": {
        "id": "kG30d8t3wckB",
        "colab": {
          "base_uri": "https://localhost:8080/"
        },
        "outputId": "65609fac-af2e-4146-e2c5-abbe3f7a389b"
      },
      "outputs": [
        {
          "output_type": "execute_result",
          "data": {
            "text/plain": [
              "(1103, 11)"
            ]
          },
          "metadata": {},
          "execution_count": 15
        }
      ],
      "source": [
        "y = df_undup['cell_type_idx']\n",
        "_, df_val = train_test_split(df_undup, test_size=0.2, random_state=101, stratify=y)\n",
        "df_val.shape\n"
      ]
    },
    {
      "cell_type": "code",
      "execution_count": 16,
      "metadata": {
        "id": "UhJFsn02V21k",
        "colab": {
          "base_uri": "https://localhost:8080/"
        },
        "outputId": "c5bd5d46-965b-4259-9707-48ea8598139b"
      },
      "outputs": [
        {
          "output_type": "execute_result",
          "data": {
            "text/plain": [
              "10       2\n",
              "15       2\n",
              "20       2\n",
              "33       2\n",
              "34       2\n",
              "        ..\n",
              "9988     0\n",
              "9990     0\n",
              "9991     0\n",
              "10001    0\n",
              "10008    0\n",
              "Name: cell_type_idx, Length: 5514, dtype: int8"
            ]
          },
          "metadata": {},
          "execution_count": 16
        }
      ],
      "source": [
        "y"
      ]
    },
    {
      "cell_type": "code",
      "execution_count": 17,
      "metadata": {
        "id": "mMHoMVTQwckB",
        "colab": {
          "base_uri": "https://localhost:8080/"
        },
        "outputId": "530b6e34-6b5a-445a-daa5-ce0ee5b5e089"
      },
      "outputs": [
        {
          "output_type": "execute_result",
          "data": {
            "text/plain": [
              "4    883\n",
              "2     88\n",
              "6     46\n",
              "1     35\n",
              "0     30\n",
              "5     13\n",
              "3      8\n",
              "Name: cell_type_idx, dtype: int64"
            ]
          },
          "metadata": {},
          "execution_count": 17
        }
      ],
      "source": [
        "df_val['cell_type_idx'].value_counts()"
      ]
    },
    {
      "cell_type": "code",
      "execution_count": 18,
      "metadata": {
        "id": "MsPynByzwckC",
        "colab": {
          "base_uri": "https://localhost:8080/"
        },
        "outputId": "45381cde-7bda-4898-f9f3-2ba01e98320e"
      },
      "outputs": [
        {
          "output_type": "stream",
          "name": "stdout",
          "text": [
            "8912\n",
            "1103\n"
          ]
        }
      ],
      "source": [
        "# This set will be df_original excluding all rows that are in the val set\n",
        "# This function identifies if an image is part of the train or val set.\n",
        "def get_val_rows(x):\n",
        "    # create a list of all the lesion_id's in the val set\n",
        "    val_list = list(df_val['image_id'])\n",
        "    if str(x) in val_list:\n",
        "        return 'val'\n",
        "    else:\n",
        "        return 'train'\n",
        "\n",
        "# Identify train and val rows\n",
        "# Create a new colum that is a copy of the image_id column\n",
        "df_original['train_or_val'] = df_original['image_id']\n",
        "# Apply the function to this new column\n",
        "df_original['train_or_val'] = df_original['train_or_val'].apply(get_val_rows)\n",
        "# Filter out training rows\n",
        "df_train = df_original[df_original['train_or_val'] == 'train']\n",
        "print(len(df_train))\n",
        "print(len(df_val))"
      ]
    },
    {
      "cell_type": "code",
      "execution_count": 19,
      "metadata": {
        "id": "6RMpZ7Y4wckC",
        "colab": {
          "base_uri": "https://localhost:8080/"
        },
        "outputId": "86208445-1b55-48d5-d7ca-1e80afb4fd83"
      },
      "outputs": [
        {
          "output_type": "execute_result",
          "data": {
            "text/plain": [
              "4    5822\n",
              "6    1067\n",
              "2    1011\n",
              "1     479\n",
              "0     297\n",
              "5     129\n",
              "3     107\n",
              "Name: cell_type_idx, dtype: int64"
            ]
          },
          "metadata": {},
          "execution_count": 19
        }
      ],
      "source": [
        "df_train['cell_type_idx'].value_counts()"
      ]
    },
    {
      "cell_type": "code",
      "execution_count": 20,
      "metadata": {
        "id": "hY4r0DuvwckC",
        "colab": {
          "base_uri": "https://localhost:8080/",
          "height": 423
        },
        "outputId": "9b2777da-145f-4310-c27f-44d6dd55fcf8"
      },
      "outputs": [
        {
          "output_type": "execute_result",
          "data": {
            "text/plain": [
              "        lesion_id      image_id     dx    dx_type   age     sex  \\\n",
              "4781  HAM_0000199  ISIC_0026127     nv  follow_up  55.0    male   \n",
              "3294  HAM_0006655  ISIC_0025994     nv  follow_up  50.0  female   \n",
              "2089  HAM_0006004  ISIC_0027702    mel      histo  70.0  female   \n",
              "9816  HAM_0004563  ISIC_0031211  akiec      histo  75.0    male   \n",
              "8611  HAM_0004275  ISIC_0026921     nv      histo  70.0  female   \n",
              "...           ...           ...    ...        ...   ...     ...   \n",
              "5807  HAM_0007192  ISIC_0030558     nv  follow_up  35.0  female   \n",
              "3860  HAM_0004307  ISIC_0031714     nv  follow_up  70.0    male   \n",
              "363   HAM_0004501  ISIC_0028856    bkl      histo  65.0    male   \n",
              "3445  HAM_0007527  ISIC_0032426     nv  follow_up  45.0  female   \n",
              "3211  HAM_0001627  ISIC_0032153     nv  follow_up  45.0  female   \n",
              "\n",
              "         localization                                               path  \\\n",
              "4781  lower extremity  /content/drive/MyDrive/mldataset/HAM10000_imag...   \n",
              "3294  lower extremity  /content/drive/MyDrive/mldataset/HAM10000_imag...   \n",
              "2089             back  /content/drive/MyDrive/mldataset/HAM10000_imag...   \n",
              "9816  lower extremity  /content/drive/MyDrive/mldataset/HAM10000_imag...   \n",
              "8611             back  /content/drive/MyDrive/mldataset/HAM10000_imag...   \n",
              "...               ...                                                ...   \n",
              "5807  upper extremity  /content/drive/MyDrive/mldataset/HAM10000_imag...   \n",
              "3860             face  /content/drive/MyDrive/mldataset/HAM10000_imag...   \n",
              "363              back  /content/drive/MyDrive/mldataset/HAM10000_imag...   \n",
              "3445             back  /content/drive/MyDrive/mldataset/HAM10000_imag...   \n",
              "3211             back  /content/drive/MyDrive/mldataset/HAM10000_imag...   \n",
              "\n",
              "                           cell_type  cell_type_idx    duplicates  \n",
              "4781                Melanocytic nevi              4  unduplicated  \n",
              "3294                Melanocytic nevi              4  unduplicated  \n",
              "2089                  dermatofibroma              6  unduplicated  \n",
              "9816               Actinic keratoses              0  unduplicated  \n",
              "8611                Melanocytic nevi              4  unduplicated  \n",
              "...                              ...            ...           ...  \n",
              "5807                Melanocytic nevi              4  unduplicated  \n",
              "3860                Melanocytic nevi              4  unduplicated  \n",
              "363   Benign keratosis-like lesions               2  unduplicated  \n",
              "3445                Melanocytic nevi              4  unduplicated  \n",
              "3211                Melanocytic nevi              4  unduplicated  \n",
              "\n",
              "[1103 rows x 11 columns]"
            ],
            "text/html": [
              "\n",
              "  <div id=\"df-e6478809-f7c4-428d-944a-692f89ad2cab\">\n",
              "    <div class=\"colab-df-container\">\n",
              "      <div>\n",
              "<style scoped>\n",
              "    .dataframe tbody tr th:only-of-type {\n",
              "        vertical-align: middle;\n",
              "    }\n",
              "\n",
              "    .dataframe tbody tr th {\n",
              "        vertical-align: top;\n",
              "    }\n",
              "\n",
              "    .dataframe thead th {\n",
              "        text-align: right;\n",
              "    }\n",
              "</style>\n",
              "<table border=\"1\" class=\"dataframe\">\n",
              "  <thead>\n",
              "    <tr style=\"text-align: right;\">\n",
              "      <th></th>\n",
              "      <th>lesion_id</th>\n",
              "      <th>image_id</th>\n",
              "      <th>dx</th>\n",
              "      <th>dx_type</th>\n",
              "      <th>age</th>\n",
              "      <th>sex</th>\n",
              "      <th>localization</th>\n",
              "      <th>path</th>\n",
              "      <th>cell_type</th>\n",
              "      <th>cell_type_idx</th>\n",
              "      <th>duplicates</th>\n",
              "    </tr>\n",
              "  </thead>\n",
              "  <tbody>\n",
              "    <tr>\n",
              "      <th>4781</th>\n",
              "      <td>HAM_0000199</td>\n",
              "      <td>ISIC_0026127</td>\n",
              "      <td>nv</td>\n",
              "      <td>follow_up</td>\n",
              "      <td>55.0</td>\n",
              "      <td>male</td>\n",
              "      <td>lower extremity</td>\n",
              "      <td>/content/drive/MyDrive/mldataset/HAM10000_imag...</td>\n",
              "      <td>Melanocytic nevi</td>\n",
              "      <td>4</td>\n",
              "      <td>unduplicated</td>\n",
              "    </tr>\n",
              "    <tr>\n",
              "      <th>3294</th>\n",
              "      <td>HAM_0006655</td>\n",
              "      <td>ISIC_0025994</td>\n",
              "      <td>nv</td>\n",
              "      <td>follow_up</td>\n",
              "      <td>50.0</td>\n",
              "      <td>female</td>\n",
              "      <td>lower extremity</td>\n",
              "      <td>/content/drive/MyDrive/mldataset/HAM10000_imag...</td>\n",
              "      <td>Melanocytic nevi</td>\n",
              "      <td>4</td>\n",
              "      <td>unduplicated</td>\n",
              "    </tr>\n",
              "    <tr>\n",
              "      <th>2089</th>\n",
              "      <td>HAM_0006004</td>\n",
              "      <td>ISIC_0027702</td>\n",
              "      <td>mel</td>\n",
              "      <td>histo</td>\n",
              "      <td>70.0</td>\n",
              "      <td>female</td>\n",
              "      <td>back</td>\n",
              "      <td>/content/drive/MyDrive/mldataset/HAM10000_imag...</td>\n",
              "      <td>dermatofibroma</td>\n",
              "      <td>6</td>\n",
              "      <td>unduplicated</td>\n",
              "    </tr>\n",
              "    <tr>\n",
              "      <th>9816</th>\n",
              "      <td>HAM_0004563</td>\n",
              "      <td>ISIC_0031211</td>\n",
              "      <td>akiec</td>\n",
              "      <td>histo</td>\n",
              "      <td>75.0</td>\n",
              "      <td>male</td>\n",
              "      <td>lower extremity</td>\n",
              "      <td>/content/drive/MyDrive/mldataset/HAM10000_imag...</td>\n",
              "      <td>Actinic keratoses</td>\n",
              "      <td>0</td>\n",
              "      <td>unduplicated</td>\n",
              "    </tr>\n",
              "    <tr>\n",
              "      <th>8611</th>\n",
              "      <td>HAM_0004275</td>\n",
              "      <td>ISIC_0026921</td>\n",
              "      <td>nv</td>\n",
              "      <td>histo</td>\n",
              "      <td>70.0</td>\n",
              "      <td>female</td>\n",
              "      <td>back</td>\n",
              "      <td>/content/drive/MyDrive/mldataset/HAM10000_imag...</td>\n",
              "      <td>Melanocytic nevi</td>\n",
              "      <td>4</td>\n",
              "      <td>unduplicated</td>\n",
              "    </tr>\n",
              "    <tr>\n",
              "      <th>...</th>\n",
              "      <td>...</td>\n",
              "      <td>...</td>\n",
              "      <td>...</td>\n",
              "      <td>...</td>\n",
              "      <td>...</td>\n",
              "      <td>...</td>\n",
              "      <td>...</td>\n",
              "      <td>...</td>\n",
              "      <td>...</td>\n",
              "      <td>...</td>\n",
              "      <td>...</td>\n",
              "    </tr>\n",
              "    <tr>\n",
              "      <th>5807</th>\n",
              "      <td>HAM_0007192</td>\n",
              "      <td>ISIC_0030558</td>\n",
              "      <td>nv</td>\n",
              "      <td>follow_up</td>\n",
              "      <td>35.0</td>\n",
              "      <td>female</td>\n",
              "      <td>upper extremity</td>\n",
              "      <td>/content/drive/MyDrive/mldataset/HAM10000_imag...</td>\n",
              "      <td>Melanocytic nevi</td>\n",
              "      <td>4</td>\n",
              "      <td>unduplicated</td>\n",
              "    </tr>\n",
              "    <tr>\n",
              "      <th>3860</th>\n",
              "      <td>HAM_0004307</td>\n",
              "      <td>ISIC_0031714</td>\n",
              "      <td>nv</td>\n",
              "      <td>follow_up</td>\n",
              "      <td>70.0</td>\n",
              "      <td>male</td>\n",
              "      <td>face</td>\n",
              "      <td>/content/drive/MyDrive/mldataset/HAM10000_imag...</td>\n",
              "      <td>Melanocytic nevi</td>\n",
              "      <td>4</td>\n",
              "      <td>unduplicated</td>\n",
              "    </tr>\n",
              "    <tr>\n",
              "      <th>363</th>\n",
              "      <td>HAM_0004501</td>\n",
              "      <td>ISIC_0028856</td>\n",
              "      <td>bkl</td>\n",
              "      <td>histo</td>\n",
              "      <td>65.0</td>\n",
              "      <td>male</td>\n",
              "      <td>back</td>\n",
              "      <td>/content/drive/MyDrive/mldataset/HAM10000_imag...</td>\n",
              "      <td>Benign keratosis-like lesions</td>\n",
              "      <td>2</td>\n",
              "      <td>unduplicated</td>\n",
              "    </tr>\n",
              "    <tr>\n",
              "      <th>3445</th>\n",
              "      <td>HAM_0007527</td>\n",
              "      <td>ISIC_0032426</td>\n",
              "      <td>nv</td>\n",
              "      <td>follow_up</td>\n",
              "      <td>45.0</td>\n",
              "      <td>female</td>\n",
              "      <td>back</td>\n",
              "      <td>/content/drive/MyDrive/mldataset/HAM10000_imag...</td>\n",
              "      <td>Melanocytic nevi</td>\n",
              "      <td>4</td>\n",
              "      <td>unduplicated</td>\n",
              "    </tr>\n",
              "    <tr>\n",
              "      <th>3211</th>\n",
              "      <td>HAM_0001627</td>\n",
              "      <td>ISIC_0032153</td>\n",
              "      <td>nv</td>\n",
              "      <td>follow_up</td>\n",
              "      <td>45.0</td>\n",
              "      <td>female</td>\n",
              "      <td>back</td>\n",
              "      <td>/content/drive/MyDrive/mldataset/HAM10000_imag...</td>\n",
              "      <td>Melanocytic nevi</td>\n",
              "      <td>4</td>\n",
              "      <td>unduplicated</td>\n",
              "    </tr>\n",
              "  </tbody>\n",
              "</table>\n",
              "<p>1103 rows × 11 columns</p>\n",
              "</div>\n",
              "      <button class=\"colab-df-convert\" onclick=\"convertToInteractive('df-e6478809-f7c4-428d-944a-692f89ad2cab')\"\n",
              "              title=\"Convert this dataframe to an interactive table.\"\n",
              "              style=\"display:none;\">\n",
              "        \n",
              "  <svg xmlns=\"http://www.w3.org/2000/svg\" height=\"24px\"viewBox=\"0 0 24 24\"\n",
              "       width=\"24px\">\n",
              "    <path d=\"M0 0h24v24H0V0z\" fill=\"none\"/>\n",
              "    <path d=\"M18.56 5.44l.94 2.06.94-2.06 2.06-.94-2.06-.94-.94-2.06-.94 2.06-2.06.94zm-11 1L8.5 8.5l.94-2.06 2.06-.94-2.06-.94L8.5 2.5l-.94 2.06-2.06.94zm10 10l.94 2.06.94-2.06 2.06-.94-2.06-.94-.94-2.06-.94 2.06-2.06.94z\"/><path d=\"M17.41 7.96l-1.37-1.37c-.4-.4-.92-.59-1.43-.59-.52 0-1.04.2-1.43.59L10.3 9.45l-7.72 7.72c-.78.78-.78 2.05 0 2.83L4 21.41c.39.39.9.59 1.41.59.51 0 1.02-.2 1.41-.59l7.78-7.78 2.81-2.81c.8-.78.8-2.07 0-2.86zM5.41 20L4 18.59l7.72-7.72 1.47 1.35L5.41 20z\"/>\n",
              "  </svg>\n",
              "      </button>\n",
              "      \n",
              "  <style>\n",
              "    .colab-df-container {\n",
              "      display:flex;\n",
              "      flex-wrap:wrap;\n",
              "      gap: 12px;\n",
              "    }\n",
              "\n",
              "    .colab-df-convert {\n",
              "      background-color: #E8F0FE;\n",
              "      border: none;\n",
              "      border-radius: 50%;\n",
              "      cursor: pointer;\n",
              "      display: none;\n",
              "      fill: #1967D2;\n",
              "      height: 32px;\n",
              "      padding: 0 0 0 0;\n",
              "      width: 32px;\n",
              "    }\n",
              "\n",
              "    .colab-df-convert:hover {\n",
              "      background-color: #E2EBFA;\n",
              "      box-shadow: 0px 1px 2px rgba(60, 64, 67, 0.3), 0px 1px 3px 1px rgba(60, 64, 67, 0.15);\n",
              "      fill: #174EA6;\n",
              "    }\n",
              "\n",
              "    [theme=dark] .colab-df-convert {\n",
              "      background-color: #3B4455;\n",
              "      fill: #D2E3FC;\n",
              "    }\n",
              "\n",
              "    [theme=dark] .colab-df-convert:hover {\n",
              "      background-color: #434B5C;\n",
              "      box-shadow: 0px 1px 3px 1px rgba(0, 0, 0, 0.15);\n",
              "      filter: drop-shadow(0px 1px 2px rgba(0, 0, 0, 0.3));\n",
              "      fill: #FFFFFF;\n",
              "    }\n",
              "  </style>\n",
              "\n",
              "      <script>\n",
              "        const buttonEl =\n",
              "          document.querySelector('#df-e6478809-f7c4-428d-944a-692f89ad2cab button.colab-df-convert');\n",
              "        buttonEl.style.display =\n",
              "          google.colab.kernel.accessAllowed ? 'block' : 'none';\n",
              "\n",
              "        async function convertToInteractive(key) {\n",
              "          const element = document.querySelector('#df-e6478809-f7c4-428d-944a-692f89ad2cab');\n",
              "          const dataTable =\n",
              "            await google.colab.kernel.invokeFunction('convertToInteractive',\n",
              "                                                     [key], {});\n",
              "          if (!dataTable) return;\n",
              "\n",
              "          const docLinkHtml = 'Like what you see? Visit the ' +\n",
              "            '<a target=\"_blank\" href=https://colab.research.google.com/notebooks/data_table.ipynb>data table notebook</a>'\n",
              "            + ' to learn more about interactive tables.';\n",
              "          element.innerHTML = '';\n",
              "          dataTable['output_type'] = 'display_data';\n",
              "          await google.colab.output.renderOutput(dataTable, element);\n",
              "          const docLink = document.createElement('div');\n",
              "          docLink.innerHTML = docLinkHtml;\n",
              "          element.appendChild(docLink);\n",
              "        }\n",
              "      </script>\n",
              "    </div>\n",
              "  </div>\n",
              "  "
            ]
          },
          "metadata": {},
          "execution_count": 20
        }
      ],
      "source": [
        "df_val"
      ]
    },
    {
      "cell_type": "code",
      "execution_count": 21,
      "metadata": {
        "id": "vM5YrL28wckC",
        "colab": {
          "base_uri": "https://localhost:8080/"
        },
        "outputId": "a5a035aa-c598-4f91-cbce-4b0b25afd1ea"
      },
      "outputs": [
        {
          "output_type": "stream",
          "name": "stderr",
          "text": [
            "<ipython-input-21-b24def662a40>:5: FutureWarning: The frame.append method is deprecated and will be removed from pandas in a future version. Use pandas.concat instead.\n",
            "  df_train=df_train.append([df_train.loc[df_train['cell_type_idx'] == i,:]]*(data_aug_rate[i]-1), ignore_index=True)\n"
          ]
        },
        {
          "output_type": "execute_result",
          "data": {
            "text/plain": [
              "Melanocytic nevi                  5822\n",
              "Dermatofibroma                    5350\n",
              "dermatofibroma                    5335\n",
              "Vascular lesions                  5160\n",
              "Benign keratosis-like lesions     5055\n",
              "Basal cell carcinoma              4790\n",
              "Actinic keratoses                 4455\n",
              "Name: cell_type, dtype: int64"
            ]
          },
          "metadata": {},
          "execution_count": 21
        }
      ],
      "source": [
        "# Copy fewer class to balance the number of 7 classes\n",
        "data_aug_rate = [15,10,5,50,0,40,5]\n",
        "for i in range(7):\n",
        "    if data_aug_rate[i]:\n",
        "        df_train=df_train.append([df_train.loc[df_train['cell_type_idx'] == i,:]]*(data_aug_rate[i]-1), ignore_index=True)\n",
        "df_train['cell_type'].value_counts()"
      ]
    },
    {
      "cell_type": "markdown",
      "metadata": {
        "id": "aANLpcFLwckD"
      },
      "source": [
        "# Split dataset"
      ]
    },
    {
      "cell_type": "code",
      "execution_count": 22,
      "metadata": {
        "id": "NBQ3gQszwckD"
      },
      "outputs": [],
      "source": [
        "# Split the test set again in a validation set and a true test set:\n",
        "df_val, df_test = train_test_split(df_val, test_size=0.5)\n",
        "df_train = df_train.reset_index()\n",
        "df_val = df_val.reset_index()\n",
        "df_test = df_test.reset_index()"
      ]
    },
    {
      "cell_type": "code",
      "execution_count": 23,
      "metadata": {
        "id": "c8uX15YTwckD",
        "colab": {
          "base_uri": "https://localhost:8080/"
        },
        "outputId": "92b05a97-d50c-4ec5-ffde-0745398f69db"
      },
      "outputs": [
        {
          "output_type": "stream",
          "name": "stdout",
          "text": [
            "552\n"
          ]
        },
        {
          "output_type": "execute_result",
          "data": {
            "text/plain": [
              "Melanocytic nevi                  444\n",
              "Benign keratosis-like lesions      47\n",
              "dermatofibroma                     20\n",
              "Basal cell carcinoma               15\n",
              "Actinic keratoses                  12\n",
              "Vascular lesions                    8\n",
              "Dermatofibroma                      6\n",
              "Name: cell_type, dtype: int64"
            ]
          },
          "metadata": {},
          "execution_count": 23
        }
      ],
      "source": [
        "print(len(df_test))\n",
        "df_test['cell_type'].value_counts()"
      ]
    },
    {
      "cell_type": "markdown",
      "metadata": {
        "id": "JF0B1GrAwckD"
      },
      "source": [
        "# Set model"
      ]
    },
    {
      "cell_type": "code",
      "execution_count": 24,
      "metadata": {
        "id": "te81Juv5wckD"
      },
      "outputs": [],
      "source": [
        "def set_parameter_requires_grad(model, feature_extracting):\n",
        "    if feature_extracting:\n",
        "        for param in model.parameters():\n",
        "            param.requires_grad = False"
      ]
    },
    {
      "cell_type": "code",
      "execution_count": 25,
      "metadata": {
        "id": "KJnebe8JwckE"
      },
      "outputs": [],
      "source": [
        "def initialize_model(model_name, num_classes, feature_extract, use_pretrained=True):\n",
        "    # Initialize these variables which will be set\n",
        "    model_ft = None\n",
        "    input_size = 0\n",
        "\n",
        "    if model_name == \"resnet\":\n",
        "        \"\"\" Resnet18, resnet34, resnet50, resnet101\n",
        "        \"\"\"\n",
        "        model_ft = models.resnet50(pretrained=True)\n",
        "        set_parameter_requires_grad(model_ft, feature_extract)\n",
        "        num_ftrs = model_ft.fc.in_features\n",
        "        model_ft.fc = nn.Linear(num_ftrs, num_classes)\n",
        "        input_size = 224\n",
        "\n",
        "    else:\n",
        "        print(\"Invalid model name, exiting...\")\n",
        "        exit()\n",
        "\n",
        "    return model_ft, input_size"
      ]
    },
    {
      "cell_type": "code",
      "execution_count": 26,
      "metadata": {
        "id": "5gA_4zz0wckE",
        "colab": {
          "base_uri": "https://localhost:8080/"
        },
        "outputId": "14e30fbf-bbf2-4a61-f0fb-be45f1bb9713"
      },
      "outputs": [
        {
          "output_type": "stream",
          "name": "stderr",
          "text": [
            "/usr/local/lib/python3.10/dist-packages/torchvision/models/_utils.py:208: UserWarning: The parameter 'pretrained' is deprecated since 0.13 and may be removed in the future, please use 'weights' instead.\n",
            "  warnings.warn(\n",
            "/usr/local/lib/python3.10/dist-packages/torchvision/models/_utils.py:223: UserWarning: Arguments other than a weight enum or `None` for 'weights' are deprecated since 0.13 and may be removed in the future. The current behavior is equivalent to passing `weights=ResNet50_Weights.IMAGENET1K_V1`. You can also use `weights=ResNet50_Weights.DEFAULT` to get the most up-to-date weights.\n",
            "  warnings.warn(msg)\n",
            "Downloading: \"https://download.pytorch.org/models/resnet50-0676ba61.pth\" to /root/.cache/torch/hub/checkpoints/resnet50-0676ba61.pth\n",
            "100%|██████████| 97.8M/97.8M [00:00<00:00, 311MB/s]\n"
          ]
        }
      ],
      "source": [
        "model_name = \"resnet\"\n",
        "num_classes = 7\n",
        "feature_extract = False\n",
        "# Initialize the model\n",
        "model_ft, input_size = initialize_model(model_name, num_classes, feature_extract, use_pretrained=True)\n",
        "# Define the device:\n",
        "device = torch.device('cuda:0')\n",
        "#device = torch.device('cpu') # If using cpu\n",
        "# Put the model on the device:\n",
        "model = model_ft.to(device)"
      ]
    },
    {
      "cell_type": "markdown",
      "metadata": {
        "id": "y5hLtNvtwckE"
      },
      "source": [
        "# Data augmentation"
      ]
    },
    {
      "cell_type": "code",
      "execution_count": 27,
      "metadata": {
        "id": "mA87INeUwckE"
      },
      "outputs": [],
      "source": [
        "# define the transformation of the train images.\n",
        "train_transform = transforms.Compose([transforms.Resize((input_size,input_size)),transforms.RandomHorizontalFlip(),\n",
        "                                      transforms.RandomVerticalFlip(),\n",
        "                                      transforms.RandomRotation(20),\n",
        "                                      transforms.ColorJitter(brightness=0.1, contrast=0.1, hue=0.1),\n",
        "                                      transforms.ToTensor(),\n",
        "                                      transforms.Normalize(norm_mean, norm_std)])\n",
        "\n",
        "# define the transformation of the val images.\n",
        "val_transform = transforms.Compose([transforms.Resize((input_size,input_size)),\n",
        "                                    transforms.ToTensor(),\n",
        "                                    transforms.Normalize(norm_mean, norm_std)])\n",
        "\n",
        "# define the transformation of the test images.\n",
        "test_transform = transforms.Compose([transforms.Resize((input_size,input_size)),\n",
        "                                     transforms.ToTensor(),\n",
        "                                    transforms.Normalize(norm_mean, norm_std)])"
      ]
    },
    {
      "cell_type": "code",
      "execution_count": 28,
      "metadata": {
        "id": "byeyfvGtwckE"
      },
      "outputs": [],
      "source": [
        "# Define a pytorch dataloader for dataset\n",
        "class HAM10000(Dataset):\n",
        "    def __init__(self, df, transform=None):\n",
        "        self.df = df\n",
        "        self.transform = transform\n",
        "\n",
        "    def __len__(self):\n",
        "        return len(self.df)\n",
        "\n",
        "    def __getitem__(self, index):\n",
        "        # Load data and get label\n",
        "        X = Image.open(self.df['path'][index])\n",
        "        y = torch.tensor(int(self.df['cell_type_idx'][index]))\n",
        "\n",
        "        if self.transform:\n",
        "            X = self.transform(X)\n",
        "\n",
        "        return X, y"
      ]
    },
    {
      "cell_type": "code",
      "execution_count": 29,
      "metadata": {
        "id": "XnEep11nwckE",
        "colab": {
          "base_uri": "https://localhost:8080/"
        },
        "outputId": "a0c11c25-46df-43e9-9f86-28715d9920e9"
      },
      "outputs": [
        {
          "output_type": "stream",
          "name": "stderr",
          "text": [
            "/usr/local/lib/python3.10/dist-packages/torch/utils/data/dataloader.py:560: UserWarning: This DataLoader will create 4 worker processes in total. Our suggested max number of worker in current system is 2, which is smaller than what this DataLoader is going to create. Please be aware that excessive worker creation might get DataLoader running slow or even freeze, lower the worker number to avoid potential slowness/freeze if necessary.\n",
            "  warnings.warn(_create_warning_msg(\n"
          ]
        }
      ],
      "source": [
        "# Define the training set using the table train_df and using the defined transitions (train_transform)\n",
        "training_set = HAM10000(df_train, transform=train_transform)\n",
        "train_loader = DataLoader(training_set, batch_size=32, shuffle=True, num_workers=4)\n",
        "\n",
        "# Same for the validation set:\n",
        "validation_set = HAM10000(df_val, transform=train_transform)\n",
        "val_loader = DataLoader(validation_set, batch_size=32, shuffle=False, num_workers=4)\n",
        "\n",
        "# Same for the test set:\n",
        "test_set = HAM10000(df_test, transform=train_transform)\n",
        "test_loader = DataLoader(test_set, batch_size=32, shuffle=False, num_workers=4)"
      ]
    },
    {
      "cell_type": "code",
      "execution_count": 30,
      "metadata": {
        "id": "ZTiBC-C9wckF"
      },
      "outputs": [],
      "source": [
        "# set optimizer and loss function\n",
        "optimizer = optim.Adam(model.parameters(), lr=1e-3)\n",
        "criterion = nn.CrossEntropyLoss().to(device)"
      ]
    },
    {
      "cell_type": "code",
      "execution_count": 31,
      "metadata": {
        "id": "ExNKPhw3wckF"
      },
      "outputs": [],
      "source": [
        "# this function is used during training process, to calculate the loss and accuracy\n",
        "class AverageMeter(object):\n",
        "    def __init__(self):\n",
        "        self.reset()\n",
        "\n",
        "    def reset(self):\n",
        "        self.val = 0\n",
        "        self.avg = 0\n",
        "        self.sum = 0\n",
        "        self.count = 0\n",
        "\n",
        "    def update(self, val, n=1):\n",
        "        self.val = val\n",
        "        self.sum += val * n\n",
        "        self.count += n\n",
        "        self.avg = self.sum / self.count"
      ]
    },
    {
      "cell_type": "code",
      "execution_count": 32,
      "metadata": {
        "id": "787HLJZiwckF"
      },
      "outputs": [],
      "source": [
        "total_loss_train, total_acc_train = [],[]\n",
        "def train(train_loader, model, criterion, optimizer, epoch):\n",
        "    model.train()\n",
        "    train_loss = AverageMeter()\n",
        "    train_acc = AverageMeter()\n",
        "    curr_iter = (epoch - 1) * len(train_loader)\n",
        "    for i, data in enumerate(train_loader):\n",
        "        images, labels = data\n",
        "        N = images.size(0)\n",
        "        images = Variable(images).to(device)\n",
        "        labels = Variable(labels).to(device)\n",
        "\n",
        "        optimizer.zero_grad()\n",
        "        outputs = model(images)\n",
        "\n",
        "        loss = criterion(outputs, labels)\n",
        "        loss.backward()\n",
        "        optimizer.step()\n",
        "        prediction = outputs.max(1, keepdim=True)[1]\n",
        "        train_acc.update(prediction.eq(labels.view_as(prediction)).sum().item()/N)\n",
        "        train_loss.update(loss.item())\n",
        "        curr_iter += 1\n",
        "        if (i + 1) % 100 == 0:\n",
        "            print('[epoch %d], [iter %d / %d], [train loss %.5f], [train acc %.5f]' % (\n",
        "                epoch, i + 1, len(train_loader), train_loss.avg, train_acc.avg))\n",
        "            total_loss_train.append(train_loss.avg)\n",
        "            total_acc_train.append(train_acc.avg)\n",
        "    return train_loss.avg, train_acc.avg"
      ]
    },
    {
      "cell_type": "code",
      "execution_count": 33,
      "metadata": {
        "id": "apia3pQpwckF"
      },
      "outputs": [],
      "source": [
        "def validate(val_loader, model, criterion, optimizer, epoch):\n",
        "    model.eval()\n",
        "    val_loss = AverageMeter()\n",
        "    val_acc = AverageMeter()\n",
        "    with torch.no_grad():\n",
        "        for i, data in tqdm(enumerate(val_loader)):\n",
        "            images, labels = data\n",
        "            N = images.size(0)\n",
        "            images = Variable(images).to(device)\n",
        "            labels = Variable(labels).to(device)\n",
        "\n",
        "            outputs = model(images)\n",
        "            prediction = outputs.max(1, keepdim=True)[1]\n",
        "\n",
        "            val_acc.update(prediction.eq(labels.view_as(prediction)).sum().item()/N)\n",
        "\n",
        "            val_loss.update(criterion(outputs, labels).item())\n",
        "\n",
        "    print('------------------------------------------------------------')\n",
        "    print('[epoch %d], [val loss %.5f], [val acc %.5f]' % (epoch, val_loss.avg, val_acc.avg))\n",
        "    print('------------------------------------------------------------')\n",
        "    return val_loss.avg, val_acc.avg"
      ]
    },
    {
      "cell_type": "code",
      "execution_count": 34,
      "metadata": {
        "id": "6vZuyJkywckF",
        "colab": {
          "base_uri": "https://localhost:8080/"
        },
        "outputId": "c33b3e93-8854-4616-d690-c41968603c81"
      },
      "outputs": [
        {
          "metadata": {
            "tags": null
          },
          "name": "stderr",
          "output_type": "stream",
          "text": [
            "\r  0%|          | 0/15 [00:00<?, ?it/s]"
          ]
        },
        {
          "metadata": {
            "tags": null
          },
          "name": "stdout",
          "output_type": "stream",
          "text": [
            "[epoch 1], [iter 100 / 1124], [train loss 1.66591], [train acc 0.37656]\n",
            "[epoch 1], [iter 200 / 1124], [train loss 1.51855], [train acc 0.42688]\n",
            "[epoch 1], [iter 300 / 1124], [train loss 1.42722], [train acc 0.46542]\n",
            "[epoch 1], [iter 400 / 1124], [train loss 1.35094], [train acc 0.49523]\n",
            "[epoch 1], [iter 500 / 1124], [train loss 1.30230], [train acc 0.51544]\n",
            "[epoch 1], [iter 600 / 1124], [train loss 1.25988], [train acc 0.53208]\n",
            "[epoch 1], [iter 700 / 1124], [train loss 1.22310], [train acc 0.54616]\n",
            "[epoch 1], [iter 800 / 1124], [train loss 1.18616], [train acc 0.55898]\n",
            "[epoch 1], [iter 900 / 1124], [train loss 1.15130], [train acc 0.57149]\n",
            "[epoch 1], [iter 1000 / 1124], [train loss 1.12273], [train acc 0.58256]\n",
            "[epoch 1], [iter 1100 / 1124], [train loss 1.09493], [train acc 0.59247]\n"
          ]
        },
        {
          "metadata": {
            "tags": null
          },
          "name": "stderr",
          "output_type": "stream",
          "text": [
            "\n",
            "0it [00:00, ?it/s]\u001b[A\n",
            "1it [00:09,  9.71s/it]\u001b[A\n",
            "2it [00:11,  5.10s/it]\u001b[A\n",
            "3it [00:11,  2.82s/it]\u001b[A\n",
            "4it [00:13,  2.29s/it]\u001b[A\n",
            "5it [00:17,  2.90s/it]\u001b[A\n",
            "6it [00:21,  3.24s/it]\u001b[A\n",
            "7it [00:21,  2.22s/it]\u001b[A\n",
            "8it [00:28,  3.69s/it]\u001b[A\n",
            "9it [00:31,  3.65s/it]\u001b[A\n",
            "10it [00:33,  3.04s/it]\u001b[A\n",
            "11it [00:33,  2.15s/it]\u001b[A\n",
            "12it [00:49,  6.51s/it]\u001b[A\n",
            "13it [00:49,  4.57s/it]\u001b[A\n",
            "15it [00:50,  2.50s/it]\u001b[A\n",
            "16it [01:16,  8.46s/it]\u001b[A\n",
            "17it [01:16,  6.27s/it]\u001b[A\n",
            "18it [01:17,  4.28s/it]\n",
            "  7%|▋         | 1/15 [28:11<6:34:41, 1691.53s/it]"
          ]
        },
        {
          "metadata": {
            "tags": null
          },
          "name": "stdout",
          "output_type": "stream",
          "text": [
            "------------------------------------------------------------\n",
            "[epoch 1], [val loss 0.53120], [val acc 0.81771]\n",
            "------------------------------------------------------------\n",
            "*****************************************************\n",
            "best record: [epoch 1], [val loss 0.53120], [val acc 0.81771]\n",
            "*****************************************************\n",
            "[epoch 2], [iter 100 / 1124], [train loss 0.81581], [train acc 0.68937]\n",
            "[epoch 2], [iter 200 / 1124], [train loss 0.82513], [train acc 0.68484]\n",
            "[epoch 2], [iter 300 / 1124], [train loss 0.80186], [train acc 0.69563]\n",
            "[epoch 2], [iter 400 / 1124], [train loss 0.79329], [train acc 0.69898]\n",
            "[epoch 2], [iter 500 / 1124], [train loss 0.77985], [train acc 0.70519]\n",
            "[epoch 2], [iter 600 / 1124], [train loss 0.76625], [train acc 0.71073]\n",
            "[epoch 2], [iter 700 / 1124], [train loss 0.75692], [train acc 0.71437]\n",
            "[epoch 2], [iter 800 / 1124], [train loss 0.74461], [train acc 0.71984]\n",
            "[epoch 2], [iter 900 / 1124], [train loss 0.73772], [train acc 0.72212]\n",
            "[epoch 2], [iter 1000 / 1124], [train loss 0.72892], [train acc 0.72437]\n",
            "[epoch 2], [iter 1100 / 1124], [train loss 0.71998], [train acc 0.72798]\n"
          ]
        },
        {
          "metadata": {
            "tags": null
          },
          "name": "stderr",
          "output_type": "stream",
          "text": [
            "\n",
            "0it [00:00, ?it/s]\u001b[A\n",
            "1it [00:02,  2.21s/it]\u001b[A\n",
            "2it [00:02,  1.02it/s]\u001b[A\n",
            "3it [00:02,  1.69it/s]\u001b[A\n",
            "4it [00:02,  2.48it/s]\u001b[A\n",
            "5it [00:05,  1.14s/it]\u001b[A\n",
            "6it [00:05,  1.25it/s]\u001b[A\n",
            "7it [00:05,  1.68it/s]\u001b[A\n",
            "8it [00:05,  2.24it/s]\u001b[A\n",
            "9it [00:08,  1.13s/it]\u001b[A\n",
            "10it [00:08,  1.23it/s]\u001b[A\n",
            "11it [00:08,  1.64it/s]\u001b[A\n",
            "12it [00:08,  2.20it/s]\u001b[A\n",
            "13it [00:09,  1.34it/s]\u001b[A\n",
            "14it [00:09,  1.81it/s]\u001b[A\n",
            "15it [00:10,  2.38it/s]\u001b[A\n",
            "18it [00:10,  1.67it/s]\n",
            " 13%|█▎        | 2/15 [39:46<3:59:29, 1105.33s/it]"
          ]
        },
        {
          "metadata": {
            "tags": null
          },
          "name": "stdout",
          "output_type": "stream",
          "text": [
            "------------------------------------------------------------\n",
            "[epoch 2], [val loss 0.47694], [val acc 0.85590]\n",
            "------------------------------------------------------------\n",
            "*****************************************************\n",
            "best record: [epoch 2], [val loss 0.47694], [val acc 0.85590]\n",
            "*****************************************************\n",
            "[epoch 3], [iter 100 / 1124], [train loss 0.64835], [train acc 0.75438]\n",
            "[epoch 3], [iter 200 / 1124], [train loss 0.63881], [train acc 0.75844]\n",
            "[epoch 3], [iter 300 / 1124], [train loss 0.62797], [train acc 0.76094]\n",
            "[epoch 3], [iter 400 / 1124], [train loss 0.61996], [train acc 0.76406]\n",
            "[epoch 3], [iter 500 / 1124], [train loss 0.61005], [train acc 0.76925]\n",
            "[epoch 3], [iter 600 / 1124], [train loss 0.60737], [train acc 0.77146]\n",
            "[epoch 3], [iter 700 / 1124], [train loss 0.60410], [train acc 0.77129]\n",
            "[epoch 3], [iter 800 / 1124], [train loss 0.59926], [train acc 0.77395]\n",
            "[epoch 3], [iter 900 / 1124], [train loss 0.59117], [train acc 0.77684]\n",
            "[epoch 3], [iter 1000 / 1124], [train loss 0.58614], [train acc 0.77850]\n",
            "[epoch 3], [iter 1100 / 1124], [train loss 0.58321], [train acc 0.77969]\n"
          ]
        },
        {
          "metadata": {
            "tags": null
          },
          "name": "stderr",
          "output_type": "stream",
          "text": [
            "\n",
            "0it [00:00, ?it/s]\u001b[A\n",
            "1it [00:02,  2.01s/it]\u001b[A\n",
            "2it [00:02,  1.09it/s]\u001b[A\n",
            "3it [00:02,  1.81it/s]\u001b[A\n",
            "4it [00:02,  2.66it/s]\u001b[A\n",
            "5it [00:04,  1.05it/s]\u001b[A\n",
            "6it [00:04,  1.49it/s]\u001b[A\n",
            "7it [00:04,  1.85it/s]\u001b[A\n",
            "8it [00:04,  2.47it/s]\u001b[A\n",
            "9it [00:07,  1.08s/it]\u001b[A\n",
            "10it [00:07,  1.27it/s]\u001b[A\n",
            "11it [00:07,  1.70it/s]\u001b[A\n",
            "12it [00:07,  2.26it/s]\u001b[A\n",
            "13it [00:09,  1.29it/s]\u001b[A\n",
            "14it [00:09,  1.75it/s]\u001b[A\n",
            "15it [00:09,  2.27it/s]\u001b[A\n",
            "18it [00:10,  1.74it/s]\n",
            " 20%|██        | 3/15 [51:08<3:02:26, 912.20s/it] "
          ]
        },
        {
          "output_type": "stream",
          "name": "stdout",
          "text": [
            "------------------------------------------------------------\n",
            "[epoch 3], [val loss 0.46014], [val acc 0.83681]\n",
            "------------------------------------------------------------\n",
            "[epoch 4], [iter 100 / 1124], [train loss 0.54842], [train acc 0.78656]\n",
            "[epoch 4], [iter 200 / 1124], [train loss 0.53399], [train acc 0.79547]\n",
            "[epoch 4], [iter 300 / 1124], [train loss 0.52030], [train acc 0.80083]\n",
            "[epoch 4], [iter 400 / 1124], [train loss 0.51633], [train acc 0.80414]\n",
            "[epoch 4], [iter 500 / 1124], [train loss 0.51452], [train acc 0.80494]\n",
            "[epoch 4], [iter 600 / 1124], [train loss 0.50802], [train acc 0.80766]\n",
            "[epoch 4], [iter 700 / 1124], [train loss 0.50950], [train acc 0.80679]\n",
            "[epoch 4], [iter 800 / 1124], [train loss 0.50393], [train acc 0.80949]\n",
            "[epoch 4], [iter 900 / 1124], [train loss 0.49839], [train acc 0.81226]\n",
            "[epoch 4], [iter 1000 / 1124], [train loss 0.49717], [train acc 0.81250]\n",
            "[epoch 4], [iter 1100 / 1124], [train loss 0.49412], [train acc 0.81344]\n"
          ]
        },
        {
          "output_type": "stream",
          "name": "stderr",
          "text": [
            "\n",
            "0it [00:00, ?it/s]\u001b[A\n",
            "1it [00:02,  2.16s/it]\u001b[A\n",
            "2it [00:02,  1.04it/s]\u001b[A\n",
            "3it [00:02,  1.71it/s]\u001b[A\n",
            "4it [00:02,  2.53it/s]\u001b[A\n",
            "5it [00:04,  1.21it/s]\u001b[A\n",
            "6it [00:04,  1.70it/s]\u001b[A\n",
            "7it [00:04,  2.23it/s]\u001b[A\n",
            "8it [00:04,  2.92it/s]\u001b[A\n",
            "9it [00:07,  1.19s/it]\u001b[A\n",
            "10it [00:07,  1.15it/s]\u001b[A\n",
            "11it [00:07,  1.53it/s]\u001b[A\n",
            "12it [00:08,  2.03it/s]\u001b[A\n",
            "13it [00:09,  1.22it/s]\u001b[A\n",
            "15it [00:09,  2.06it/s]\u001b[A\n",
            "18it [00:10,  1.72it/s]\n",
            " 27%|██▋       | 4/15 [1:02:19<2:29:45, 816.86s/it]"
          ]
        },
        {
          "output_type": "stream",
          "name": "stdout",
          "text": [
            "------------------------------------------------------------\n",
            "[epoch 4], [val loss 0.36865], [val acc 0.86285]\n",
            "------------------------------------------------------------\n",
            "*****************************************************\n",
            "best record: [epoch 4], [val loss 0.36865], [val acc 0.86285]\n",
            "*****************************************************\n",
            "[epoch 5], [iter 100 / 1124], [train loss 0.43522], [train acc 0.83844]\n",
            "[epoch 5], [iter 200 / 1124], [train loss 0.45787], [train acc 0.82703]\n",
            "[epoch 5], [iter 300 / 1124], [train loss 0.46171], [train acc 0.82552]\n",
            "[epoch 5], [iter 400 / 1124], [train loss 0.44988], [train acc 0.83117]\n",
            "[epoch 5], [iter 500 / 1124], [train loss 0.44767], [train acc 0.83144]\n",
            "[epoch 5], [iter 600 / 1124], [train loss 0.44718], [train acc 0.83130]\n",
            "[epoch 5], [iter 700 / 1124], [train loss 0.44862], [train acc 0.83071]\n",
            "[epoch 5], [iter 800 / 1124], [train loss 0.44719], [train acc 0.83102]\n",
            "[epoch 5], [iter 900 / 1124], [train loss 0.44547], [train acc 0.83125]\n",
            "[epoch 5], [iter 1000 / 1124], [train loss 0.44219], [train acc 0.83244]\n",
            "[epoch 5], [iter 1100 / 1124], [train loss 0.44085], [train acc 0.83281]\n"
          ]
        },
        {
          "output_type": "stream",
          "name": "stderr",
          "text": [
            "\n",
            "0it [00:00, ?it/s]\u001b[A\n",
            "1it [00:02,  2.06s/it]\u001b[A\n",
            "2it [00:02,  1.07it/s]\u001b[A\n",
            "3it [00:02,  1.77it/s]\u001b[A\n",
            "4it [00:02,  2.59it/s]\u001b[A\n",
            "5it [00:04,  1.11it/s]\u001b[A\n",
            "6it [00:04,  1.34it/s]\u001b[A\n",
            "7it [00:04,  1.80it/s]\u001b[A\n",
            "8it [00:05,  2.38it/s]\u001b[A\n",
            "9it [00:07,  1.09s/it]\u001b[A\n",
            "10it [00:07,  1.22it/s]\u001b[A\n",
            "11it [00:07,  1.63it/s]\u001b[A\n",
            "12it [00:08,  2.16it/s]\u001b[A\n",
            "13it [00:09,  1.36it/s]\u001b[A\n",
            "14it [00:09,  1.57it/s]\u001b[A\n",
            "15it [00:09,  2.09it/s]\u001b[A\n",
            "16it [00:10,  2.73it/s]\u001b[A\n",
            "18it [00:10,  1.70it/s]\n",
            " 33%|███▎      | 5/15 [1:13:30<2:07:23, 764.33s/it]"
          ]
        },
        {
          "output_type": "stream",
          "name": "stdout",
          "text": [
            "------------------------------------------------------------\n",
            "[epoch 5], [val loss 0.37703], [val acc 0.87500]\n",
            "------------------------------------------------------------\n",
            "*****************************************************\n",
            "best record: [epoch 5], [val loss 0.37703], [val acc 0.87500]\n",
            "*****************************************************\n",
            "[epoch 6], [iter 100 / 1124], [train loss 0.44168], [train acc 0.83094]\n",
            "[epoch 6], [iter 200 / 1124], [train loss 0.41840], [train acc 0.83922]\n",
            "[epoch 6], [iter 300 / 1124], [train loss 0.41016], [train acc 0.84594]\n",
            "[epoch 6], [iter 400 / 1124], [train loss 0.39658], [train acc 0.84969]\n",
            "[epoch 6], [iter 500 / 1124], [train loss 0.39485], [train acc 0.84994]\n",
            "[epoch 6], [iter 600 / 1124], [train loss 0.39390], [train acc 0.84964]\n",
            "[epoch 6], [iter 700 / 1124], [train loss 0.39214], [train acc 0.85107]\n",
            "[epoch 6], [iter 800 / 1124], [train loss 0.39326], [train acc 0.85070]\n",
            "[epoch 6], [iter 900 / 1124], [train loss 0.39193], [train acc 0.85076]\n",
            "[epoch 6], [iter 1000 / 1124], [train loss 0.38768], [train acc 0.85269]\n",
            "[epoch 6], [iter 1100 / 1124], [train loss 0.38753], [train acc 0.85222]\n"
          ]
        },
        {
          "output_type": "stream",
          "name": "stderr",
          "text": [
            "\n",
            "0it [00:00, ?it/s]\u001b[A\n",
            "1it [00:01,  1.91s/it]\u001b[A\n",
            "2it [00:02,  1.02it/s]\u001b[A\n",
            "3it [00:02,  1.67it/s]\u001b[A\n",
            "4it [00:02,  2.42it/s]\u001b[A\n",
            "5it [00:03,  1.32it/s]\u001b[A\n",
            "6it [00:04,  1.62it/s]\u001b[A\n",
            "7it [00:04,  2.22it/s]\u001b[A\n",
            "8it [00:04,  2.92it/s]\u001b[A\n",
            "9it [00:05,  1.49it/s]\u001b[A\n",
            "10it [00:06,  1.70it/s]\u001b[A\n",
            "11it [00:06,  2.23it/s]\u001b[A\n",
            "12it [00:06,  2.86it/s]\u001b[A\n",
            "13it [00:08,  1.21it/s]\u001b[A\n",
            "14it [00:09,  1.30it/s]\u001b[A\n",
            "15it [00:09,  1.72it/s]\u001b[A\n",
            "16it [00:09,  2.27it/s]\u001b[A\n",
            "18it [00:10,  1.77it/s]\n",
            " 40%|████      | 6/15 [1:24:42<1:49:57, 733.00s/it]"
          ]
        },
        {
          "output_type": "stream",
          "name": "stdout",
          "text": [
            "------------------------------------------------------------\n",
            "[epoch 6], [val loss 0.49553], [val acc 0.83854]\n",
            "------------------------------------------------------------\n",
            "[epoch 7], [iter 100 / 1124], [train loss 0.34445], [train acc 0.86687]\n",
            "[epoch 7], [iter 200 / 1124], [train loss 0.35525], [train acc 0.86516]\n",
            "[epoch 7], [iter 300 / 1124], [train loss 0.34901], [train acc 0.86792]\n",
            "[epoch 7], [iter 400 / 1124], [train loss 0.35140], [train acc 0.86523]\n",
            "[epoch 7], [iter 500 / 1124], [train loss 0.34604], [train acc 0.86681]\n",
            "[epoch 7], [iter 600 / 1124], [train loss 0.34608], [train acc 0.86839]\n",
            "[epoch 7], [iter 700 / 1124], [train loss 0.34365], [train acc 0.86911]\n",
            "[epoch 7], [iter 800 / 1124], [train loss 0.34359], [train acc 0.86875]\n",
            "[epoch 7], [iter 900 / 1124], [train loss 0.34466], [train acc 0.86875]\n",
            "[epoch 7], [iter 1000 / 1124], [train loss 0.34381], [train acc 0.86903]\n",
            "[epoch 7], [iter 1100 / 1124], [train loss 0.34201], [train acc 0.86986]\n"
          ]
        },
        {
          "output_type": "stream",
          "name": "stderr",
          "text": [
            "\n",
            "0it [00:00, ?it/s]\u001b[A\n",
            "1it [00:03,  3.53s/it]\u001b[A\n",
            "2it [00:03,  1.54s/it]\u001b[A\n",
            "3it [00:03,  1.11it/s]\u001b[A\n",
            "4it [00:03,  1.69it/s]\u001b[A\n",
            "5it [00:05,  1.01it/s]\u001b[A\n",
            "6it [00:05,  1.45it/s]\u001b[A\n",
            "7it [00:05,  1.97it/s]\u001b[A\n",
            "8it [00:05,  2.64it/s]\u001b[A\n",
            "9it [00:07,  1.35it/s]\u001b[A\n",
            "10it [00:07,  1.82it/s]\u001b[A\n",
            "11it [00:07,  2.36it/s]\u001b[A\n",
            "12it [00:07,  3.03it/s]\u001b[A\n",
            "13it [00:09,  1.43it/s]\u001b[A\n",
            "14it [00:09,  1.91it/s]\u001b[A\n",
            "15it [00:09,  2.50it/s]\u001b[A\n",
            "16it [00:09,  3.22it/s]\u001b[A\n",
            "18it [00:10,  1.74it/s]\n",
            " 47%|████▋     | 7/15 [1:35:52<1:34:56, 712.10s/it]"
          ]
        },
        {
          "output_type": "stream",
          "name": "stdout",
          "text": [
            "------------------------------------------------------------\n",
            "[epoch 7], [val loss 0.42577], [val acc 0.84201]\n",
            "------------------------------------------------------------\n",
            "[epoch 8], [iter 100 / 1124], [train loss 0.30742], [train acc 0.88031]\n",
            "[epoch 8], [iter 200 / 1124], [train loss 0.30533], [train acc 0.88391]\n",
            "[epoch 8], [iter 300 / 1124], [train loss 0.30621], [train acc 0.88427]\n",
            "[epoch 8], [iter 400 / 1124], [train loss 0.30773], [train acc 0.88336]\n",
            "[epoch 8], [iter 500 / 1124], [train loss 0.30932], [train acc 0.88156]\n",
            "[epoch 8], [iter 600 / 1124], [train loss 0.30926], [train acc 0.88187]\n",
            "[epoch 8], [iter 700 / 1124], [train loss 0.30460], [train acc 0.88371]\n",
            "[epoch 8], [iter 800 / 1124], [train loss 0.30359], [train acc 0.88418]\n",
            "[epoch 8], [iter 900 / 1124], [train loss 0.30242], [train acc 0.88476]\n",
            "[epoch 8], [iter 1000 / 1124], [train loss 0.29926], [train acc 0.88556]\n",
            "[epoch 8], [iter 1100 / 1124], [train loss 0.29860], [train acc 0.88642]\n"
          ]
        },
        {
          "output_type": "stream",
          "name": "stderr",
          "text": [
            "\n",
            "0it [00:00, ?it/s]\u001b[A\n",
            "1it [00:02,  2.05s/it]\u001b[A\n",
            "2it [00:02,  1.08it/s]\u001b[A\n",
            "3it [00:02,  1.78it/s]\u001b[A\n",
            "4it [00:02,  2.60it/s]\u001b[A\n",
            "5it [00:04,  1.15it/s]\u001b[A\n",
            "6it [00:04,  1.62it/s]\u001b[A\n",
            "7it [00:04,  2.18it/s]\u001b[A\n",
            "8it [00:04,  2.84it/s]\u001b[A\n",
            "9it [00:07,  1.07s/it]\u001b[A\n",
            "10it [00:07,  1.27it/s]\u001b[A\n",
            "11it [00:07,  1.67it/s]\u001b[A\n",
            "12it [00:07,  2.20it/s]\u001b[A\n",
            "13it [00:09,  1.14it/s]\u001b[A\n",
            "14it [00:09,  1.55it/s]\u001b[A\n",
            "15it [00:09,  2.05it/s]\u001b[A\n",
            "18it [00:10,  1.73it/s]\n",
            " 53%|█████▎    | 8/15 [1:46:59<1:21:24, 697.80s/it]"
          ]
        },
        {
          "output_type": "stream",
          "name": "stdout",
          "text": [
            "------------------------------------------------------------\n",
            "[epoch 8], [val loss 0.37923], [val acc 0.87153]\n",
            "------------------------------------------------------------\n",
            "[epoch 9], [iter 100 / 1124], [train loss 0.28883], [train acc 0.89563]\n",
            "[epoch 9], [iter 200 / 1124], [train loss 0.28584], [train acc 0.89453]\n",
            "[epoch 9], [iter 300 / 1124], [train loss 0.28081], [train acc 0.89344]\n",
            "[epoch 9], [iter 400 / 1124], [train loss 0.28179], [train acc 0.89289]\n",
            "[epoch 9], [iter 500 / 1124], [train loss 0.27589], [train acc 0.89456]\n",
            "[epoch 9], [iter 600 / 1124], [train loss 0.27129], [train acc 0.89651]\n",
            "[epoch 9], [iter 700 / 1124], [train loss 0.27215], [train acc 0.89643]\n",
            "[epoch 9], [iter 800 / 1124], [train loss 0.27211], [train acc 0.89637]\n",
            "[epoch 9], [iter 900 / 1124], [train loss 0.27197], [train acc 0.89611]\n",
            "[epoch 9], [iter 1000 / 1124], [train loss 0.26938], [train acc 0.89672]\n",
            "[epoch 9], [iter 1100 / 1124], [train loss 0.27102], [train acc 0.89659]\n"
          ]
        },
        {
          "output_type": "stream",
          "name": "stderr",
          "text": [
            "\n",
            "0it [00:00, ?it/s]\u001b[A\n",
            "1it [00:02,  2.12s/it]\u001b[A\n",
            "2it [00:02,  1.05it/s]\u001b[A\n",
            "3it [00:02,  1.73it/s]\u001b[A\n",
            "4it [00:02,  2.53it/s]\u001b[A\n",
            "5it [00:04,  1.23it/s]\u001b[A\n",
            "6it [00:04,  1.75it/s]\u001b[A\n",
            "7it [00:04,  2.33it/s]\u001b[A\n",
            "8it [00:04,  3.02it/s]\u001b[A\n",
            "9it [00:06,  1.36it/s]\u001b[A\n",
            "10it [00:06,  1.84it/s]\u001b[A\n",
            "11it [00:06,  2.40it/s]\u001b[A\n",
            "12it [00:06,  3.08it/s]\u001b[A\n",
            "13it [00:09,  1.09s/it]\u001b[A\n",
            "14it [00:09,  1.26it/s]\u001b[A\n",
            "15it [00:09,  1.68it/s]\u001b[A\n",
            "18it [00:10,  1.74it/s]\n",
            " 60%|██████    | 9/15 [1:58:09<1:08:55, 689.31s/it]"
          ]
        },
        {
          "output_type": "stream",
          "name": "stdout",
          "text": [
            "------------------------------------------------------------\n",
            "[epoch 9], [val loss 0.43738], [val acc 0.86458]\n",
            "------------------------------------------------------------\n",
            "[epoch 10], [iter 100 / 1124], [train loss 0.24950], [train acc 0.90719]\n",
            "[epoch 10], [iter 200 / 1124], [train loss 0.23970], [train acc 0.91000]\n",
            "[epoch 10], [iter 300 / 1124], [train loss 0.24928], [train acc 0.90604]\n",
            "[epoch 10], [iter 400 / 1124], [train loss 0.25173], [train acc 0.90461]\n",
            "[epoch 10], [iter 500 / 1124], [train loss 0.25550], [train acc 0.90350]\n",
            "[epoch 10], [iter 600 / 1124], [train loss 0.25621], [train acc 0.90245]\n",
            "[epoch 10], [iter 700 / 1124], [train loss 0.25748], [train acc 0.90165]\n",
            "[epoch 10], [iter 800 / 1124], [train loss 0.25919], [train acc 0.90070]\n",
            "[epoch 10], [iter 900 / 1124], [train loss 0.25532], [train acc 0.90233]\n",
            "[epoch 10], [iter 1000 / 1124], [train loss 0.25133], [train acc 0.90406]\n",
            "[epoch 10], [iter 1100 / 1124], [train loss 0.25061], [train acc 0.90460]\n"
          ]
        },
        {
          "output_type": "stream",
          "name": "stderr",
          "text": [
            "\n",
            "0it [00:00, ?it/s]\u001b[A\n",
            "1it [00:02,  2.23s/it]\u001b[A\n",
            "2it [00:02,  1.00it/s]\u001b[A\n",
            "3it [00:02,  1.67it/s]\u001b[A\n",
            "4it [00:02,  2.45it/s]\u001b[A\n",
            "5it [00:04,  1.10it/s]\u001b[A\n",
            "6it [00:04,  1.54it/s]\u001b[A\n",
            "7it [00:04,  2.03it/s]\u001b[A\n",
            "8it [00:04,  2.66it/s]\u001b[A\n",
            "9it [00:07,  1.19s/it]\u001b[A\n",
            "10it [00:07,  1.15it/s]\u001b[A\n",
            "11it [00:08,  1.56it/s]\u001b[A\n",
            "13it [00:09,  1.44it/s]\u001b[A\n",
            "14it [00:09,  1.84it/s]\u001b[A\n",
            "15it [00:09,  2.34it/s]\u001b[A\n",
            "16it [00:09,  2.94it/s]\u001b[A\n",
            "18it [00:10,  1.72it/s]\n",
            " 67%|██████▋   | 10/15 [2:09:23<57:01, 684.39s/it] "
          ]
        },
        {
          "output_type": "stream",
          "name": "stdout",
          "text": [
            "------------------------------------------------------------\n",
            "[epoch 10], [val loss 0.45405], [val acc 0.85069]\n",
            "------------------------------------------------------------\n",
            "[epoch 11], [iter 100 / 1124], [train loss 0.23123], [train acc 0.90812]\n",
            "[epoch 11], [iter 200 / 1124], [train loss 0.23442], [train acc 0.90844]\n",
            "[epoch 11], [iter 300 / 1124], [train loss 0.23145], [train acc 0.91104]\n",
            "[epoch 11], [iter 400 / 1124], [train loss 0.22861], [train acc 0.91359]\n",
            "[epoch 11], [iter 500 / 1124], [train loss 0.22881], [train acc 0.91287]\n",
            "[epoch 11], [iter 600 / 1124], [train loss 0.22486], [train acc 0.91443]\n",
            "[epoch 11], [iter 700 / 1124], [train loss 0.22594], [train acc 0.91384]\n",
            "[epoch 11], [iter 800 / 1124], [train loss 0.22503], [train acc 0.91414]\n",
            "[epoch 11], [iter 900 / 1124], [train loss 0.22360], [train acc 0.91431]\n",
            "[epoch 11], [iter 1000 / 1124], [train loss 0.22139], [train acc 0.91516]\n",
            "[epoch 11], [iter 1100 / 1124], [train loss 0.21976], [train acc 0.91597]\n"
          ]
        },
        {
          "output_type": "stream",
          "name": "stderr",
          "text": [
            "\n",
            "0it [00:00, ?it/s]\u001b[A\n",
            "1it [00:02,  2.01s/it]\u001b[A\n",
            "2it [00:02,  1.11it/s]\u001b[A\n",
            "3it [00:02,  1.82it/s]\u001b[A\n",
            "4it [00:02,  2.68it/s]\u001b[A\n",
            "5it [00:03,  1.27it/s]\u001b[A\n",
            "6it [00:04,  1.79it/s]\u001b[A\n",
            "7it [00:04,  2.28it/s]\u001b[A\n",
            "8it [00:04,  3.01it/s]\u001b[A\n",
            "9it [00:05,  1.34it/s]\u001b[A\n",
            "10it [00:06,  1.82it/s]\u001b[A\n",
            "11it [00:06,  2.34it/s]\u001b[A\n",
            "12it [00:06,  3.00it/s]\u001b[A\n",
            "13it [00:07,  1.40it/s]\u001b[A\n",
            "14it [00:08,  1.87it/s]\u001b[A\n",
            "15it [00:08,  2.30it/s]\u001b[A\n",
            "16it [00:08,  2.99it/s]\u001b[A\n",
            "18it [00:09,  1.94it/s]\n",
            " 73%|███████▎  | 11/15 [2:20:32<45:18, 679.71s/it]"
          ]
        },
        {
          "output_type": "stream",
          "name": "stdout",
          "text": [
            "------------------------------------------------------------\n",
            "[epoch 11], [val loss 0.42018], [val acc 0.86806]\n",
            "------------------------------------------------------------\n",
            "[epoch 12], [iter 100 / 1124], [train loss 0.21979], [train acc 0.92063]\n",
            "[epoch 12], [iter 200 / 1124], [train loss 0.20867], [train acc 0.92453]\n",
            "[epoch 12], [iter 300 / 1124], [train loss 0.20558], [train acc 0.92417]\n",
            "[epoch 12], [iter 400 / 1124], [train loss 0.20635], [train acc 0.92320]\n",
            "[epoch 12], [iter 500 / 1124], [train loss 0.20730], [train acc 0.92256]\n",
            "[epoch 12], [iter 600 / 1124], [train loss 0.21407], [train acc 0.91984]\n",
            "[epoch 12], [iter 700 / 1124], [train loss 0.21244], [train acc 0.92054]\n",
            "[epoch 12], [iter 800 / 1124], [train loss 0.21187], [train acc 0.92008]\n",
            "[epoch 12], [iter 900 / 1124], [train loss 0.21144], [train acc 0.92028]\n",
            "[epoch 12], [iter 1000 / 1124], [train loss 0.20919], [train acc 0.92138]\n",
            "[epoch 12], [iter 1100 / 1124], [train loss 0.20936], [train acc 0.92168]\n"
          ]
        },
        {
          "output_type": "stream",
          "name": "stderr",
          "text": [
            "\n",
            "0it [00:00, ?it/s]\u001b[A\n",
            "1it [00:03,  3.61s/it]\u001b[A\n",
            "2it [00:03,  1.56s/it]\u001b[A\n",
            "3it [00:03,  1.10it/s]\u001b[A\n",
            "4it [00:03,  1.68it/s]\u001b[A\n",
            "5it [00:05,  1.07it/s]\u001b[A\n",
            "6it [00:05,  1.52it/s]\u001b[A\n",
            "7it [00:05,  2.05it/s]\u001b[A\n",
            "8it [00:05,  2.69it/s]\u001b[A\n",
            "9it [00:07,  1.31it/s]\u001b[A\n",
            "10it [00:07,  1.77it/s]\u001b[A\n",
            "11it [00:07,  2.28it/s]\u001b[A\n",
            "12it [00:07,  2.92it/s]\u001b[A\n",
            "13it [00:09,  1.42it/s]\u001b[A\n",
            "14it [00:09,  1.91it/s]\u001b[A\n",
            "15it [00:09,  2.48it/s]\u001b[A\n",
            "18it [00:10,  1.74it/s]\n",
            " 80%|████████  | 12/15 [2:31:39<33:47, 675.90s/it]"
          ]
        },
        {
          "output_type": "stream",
          "name": "stdout",
          "text": [
            "------------------------------------------------------------\n",
            "[epoch 12], [val loss 0.50175], [val acc 0.83061]\n",
            "------------------------------------------------------------\n",
            "[epoch 13], [iter 100 / 1124], [train loss 0.17682], [train acc 0.92781]\n",
            "[epoch 13], [iter 200 / 1124], [train loss 0.17209], [train acc 0.92969]\n",
            "[epoch 13], [iter 300 / 1124], [train loss 0.17319], [train acc 0.93177]\n",
            "[epoch 13], [iter 400 / 1124], [train loss 0.18569], [train acc 0.92859]\n",
            "[epoch 13], [iter 500 / 1124], [train loss 0.18789], [train acc 0.92831]\n",
            "[epoch 13], [iter 600 / 1124], [train loss 0.18606], [train acc 0.92880]\n",
            "[epoch 13], [iter 700 / 1124], [train loss 0.18495], [train acc 0.93013]\n",
            "[epoch 13], [iter 800 / 1124], [train loss 0.18331], [train acc 0.93035]\n",
            "[epoch 13], [iter 900 / 1124], [train loss 0.18304], [train acc 0.93066]\n",
            "[epoch 13], [iter 1000 / 1124], [train loss 0.18276], [train acc 0.93112]\n",
            "[epoch 13], [iter 1100 / 1124], [train loss 0.18193], [train acc 0.93134]\n"
          ]
        },
        {
          "output_type": "stream",
          "name": "stderr",
          "text": [
            "\n",
            "0it [00:00, ?it/s]\u001b[A\n",
            "1it [00:02,  2.28s/it]\u001b[A\n",
            "2it [00:02,  1.02s/it]\u001b[A\n",
            "3it [00:02,  1.59it/s]\u001b[A\n",
            "4it [00:02,  2.38it/s]\u001b[A\n",
            "5it [00:05,  1.32s/it]\u001b[A\n",
            "6it [00:05,  1.09it/s]\u001b[A\n",
            "7it [00:05,  1.47it/s]\u001b[A\n",
            "8it [00:06,  2.00it/s]\u001b[A\n",
            "9it [00:07,  1.16it/s]\u001b[A\n",
            "10it [00:07,  1.59it/s]\u001b[A\n",
            "11it [00:07,  2.10it/s]\u001b[A\n",
            "12it [00:08,  2.75it/s]\u001b[A\n",
            "13it [00:09,  1.42it/s]\u001b[A\n",
            "14it [00:09,  1.91it/s]\u001b[A\n",
            "15it [00:09,  2.49it/s]\u001b[A\n",
            "16it [00:09,  3.20it/s]\u001b[A\n",
            "18it [00:10,  1.71it/s]\n",
            " 87%|████████▋ | 13/15 [2:42:47<22:27, 673.57s/it]"
          ]
        },
        {
          "output_type": "stream",
          "name": "stdout",
          "text": [
            "------------------------------------------------------------\n",
            "[epoch 13], [val loss 0.36583], [val acc 0.89410]\n",
            "------------------------------------------------------------\n",
            "*****************************************************\n",
            "best record: [epoch 13], [val loss 0.36583], [val acc 0.89410]\n",
            "*****************************************************\n",
            "[epoch 14], [iter 100 / 1124], [train loss 0.17342], [train acc 0.93719]\n",
            "[epoch 14], [iter 200 / 1124], [train loss 0.17626], [train acc 0.93484]\n",
            "[epoch 14], [iter 300 / 1124], [train loss 0.17860], [train acc 0.93344]\n",
            "[epoch 14], [iter 400 / 1124], [train loss 0.17842], [train acc 0.93266]\n",
            "[epoch 14], [iter 500 / 1124], [train loss 0.17630], [train acc 0.93306]\n",
            "[epoch 14], [iter 600 / 1124], [train loss 0.17411], [train acc 0.93339]\n",
            "[epoch 14], [iter 700 / 1124], [train loss 0.17431], [train acc 0.93357]\n",
            "[epoch 14], [iter 800 / 1124], [train loss 0.17458], [train acc 0.93410]\n",
            "[epoch 14], [iter 900 / 1124], [train loss 0.17574], [train acc 0.93399]\n",
            "[epoch 14], [iter 1000 / 1124], [train loss 0.17637], [train acc 0.93337]\n",
            "[epoch 14], [iter 1100 / 1124], [train loss 0.17705], [train acc 0.93335]\n"
          ]
        },
        {
          "output_type": "stream",
          "name": "stderr",
          "text": [
            "\n",
            "0it [00:00, ?it/s]\u001b[A\n",
            "1it [00:02,  2.93s/it]\u001b[A\n",
            "2it [00:03,  1.28s/it]\u001b[A\n",
            "3it [00:03,  1.30it/s]\u001b[A\n",
            "4it [00:03,  1.97it/s]\u001b[A\n",
            "5it [00:04,  1.13it/s]\u001b[A\n",
            "6it [00:04,  1.60it/s]\u001b[A\n",
            "7it [00:05,  2.15it/s]\u001b[A\n",
            "8it [00:05,  2.81it/s]\u001b[A\n",
            "9it [00:06,  1.28it/s]\u001b[A\n",
            "10it [00:07,  1.73it/s]\u001b[A\n",
            "11it [00:07,  2.29it/s]\u001b[A\n",
            "12it [00:07,  2.97it/s]\u001b[A\n",
            "13it [00:08,  1.44it/s]\u001b[A\n",
            "15it [00:09,  2.40it/s]\u001b[A\n",
            "18it [00:09,  1.86it/s]\n",
            " 93%|█████████▎| 14/15 [2:53:54<11:11, 671.57s/it]"
          ]
        },
        {
          "output_type": "stream",
          "name": "stdout",
          "text": [
            "------------------------------------------------------------\n",
            "[epoch 14], [val loss 0.41413], [val acc 0.86458]\n",
            "------------------------------------------------------------\n",
            "[epoch 15], [iter 100 / 1124], [train loss 0.15695], [train acc 0.94188]\n",
            "[epoch 15], [iter 200 / 1124], [train loss 0.16240], [train acc 0.94000]\n",
            "[epoch 15], [iter 300 / 1124], [train loss 0.16118], [train acc 0.93937]\n",
            "[epoch 15], [iter 400 / 1124], [train loss 0.16184], [train acc 0.94023]\n",
            "[epoch 15], [iter 500 / 1124], [train loss 0.15979], [train acc 0.94131]\n",
            "[epoch 15], [iter 600 / 1124], [train loss 0.16084], [train acc 0.94052]\n",
            "[epoch 15], [iter 700 / 1124], [train loss 0.15813], [train acc 0.94174]\n",
            "[epoch 15], [iter 800 / 1124], [train loss 0.15603], [train acc 0.94207]\n",
            "[epoch 15], [iter 900 / 1124], [train loss 0.15480], [train acc 0.94260]\n",
            "[epoch 15], [iter 1000 / 1124], [train loss 0.15553], [train acc 0.94263]\n",
            "[epoch 15], [iter 1100 / 1124], [train loss 0.15676], [train acc 0.94281]\n"
          ]
        },
        {
          "output_type": "stream",
          "name": "stderr",
          "text": [
            "\n",
            "0it [00:00, ?it/s]\u001b[A\n",
            "1it [00:02,  2.95s/it]\u001b[A\n",
            "2it [00:03,  1.30s/it]\u001b[A\n",
            "3it [00:03,  1.26it/s]\u001b[A\n",
            "4it [00:03,  1.88it/s]\u001b[A\n",
            "5it [00:05,  1.12s/it]\u001b[A\n",
            "6it [00:05,  1.27it/s]\u001b[A\n",
            "7it [00:05,  1.74it/s]\u001b[A\n",
            "8it [00:05,  2.34it/s]\u001b[A\n",
            "9it [00:07,  1.22it/s]\u001b[A\n",
            "10it [00:07,  1.65it/s]\u001b[A\n",
            "11it [00:07,  2.16it/s]\u001b[A\n",
            "12it [00:08,  2.83it/s]\u001b[A\n",
            "13it [00:09,  1.43it/s]\u001b[A\n",
            "15it [00:09,  2.39it/s]\u001b[A\n",
            "16it [00:09,  2.94it/s]\u001b[A\n",
            "18it [00:10,  1.73it/s]\n",
            "100%|██████████| 15/15 [3:05:02<00:00, 740.19s/it]"
          ]
        },
        {
          "output_type": "stream",
          "name": "stdout",
          "text": [
            "------------------------------------------------------------\n",
            "[epoch 15], [val loss 0.39733], [val acc 0.89236]\n",
            "------------------------------------------------------------\n"
          ]
        },
        {
          "output_type": "stream",
          "name": "stderr",
          "text": [
            "\n"
          ]
        }
      ],
      "source": [
        "epoch_num = 15\n",
        "best_val_acc = 0\n",
        "total_loss_val, total_acc_val = [],[]\n",
        "for epoch in tqdm(range(1, epoch_num+1)):\n",
        "    loss_train, acc_train = train(train_loader, model, criterion, optimizer, epoch)\n",
        "    loss_val, acc_val = validate(val_loader, model, criterion, optimizer, epoch)\n",
        "    total_loss_val.append(loss_val)\n",
        "    total_acc_val.append(acc_val)\n",
        "    if acc_val > best_val_acc:\n",
        "        best_val_acc = acc_val\n",
        "        print('*****************************************************')\n",
        "        print('best record: [epoch %d], [val loss %.5f], [val acc %.5f]' % (epoch, loss_val, acc_val))\n",
        "        print('*****************************************************')"
      ]
    },
    {
      "cell_type": "code",
      "source": [
        "save_path = '/content/drive/MyDrive/mldataset/model/finalm.h5'\n",
        "torch.save(model.state_dict(), save_path)"
      ],
      "metadata": {
        "id": "s6jJH9dMn1ht"
      },
      "execution_count": 35,
      "outputs": []
    },
    {
      "cell_type": "code",
      "execution_count": 36,
      "metadata": {
        "id": "l-MN29bcd3Wj"
      },
      "outputs": [],
      "source": [
        "def test(test_loader, model, criterion, optimizer, epoch,test_image):\n",
        "\n",
        "    test_image = Variable(test_image).to(device)\n",
        "    model.eval()\n",
        "# Predict the class label for the test image\n",
        "    with torch.no_grad():\n",
        "      output = model(test_image.unsqueeze(0))\n",
        "      prediction = output.max(1, keepdim=True)[1].item()\n",
        "\n",
        "    return prediction"
      ]
    },
    {
      "cell_type": "code",
      "execution_count": 37,
      "metadata": {
        "id": "NJdtVsEUWiMJ",
        "colab": {
          "base_uri": "https://localhost:8080/",
          "height": 406
        },
        "outputId": "a9d69a76-3e50-4c28-82de-d5838aac582b"
      },
      "outputs": [
        {
          "output_type": "display_data",
          "data": {
            "text/plain": [
              "<Figure size 640x480 with 1 Axes>"
            ],
            "image/png": "[encoded data removed]"
          },
          "metadata": {}
        }
      ],
      "source": [
        "img = '/content/drive/MyDrive/mldataset/HAM10000_images_part_1/ISIC_0025302.jpg'\n",
        "image = cv2.imread(img)\n",
        "image = cv2.cvtColor(image, cv2.COLOR_BGR2RGB)  # Convert BGR to RGB\n",
        "plt.imshow(image)\n",
        "plt.axis('off')  # Optional: Turn off axis labels\n",
        "plt.show()"
      ]
    },
    {
      "cell_type": "code",
      "execution_count": 38,
      "metadata": {
        "id": "8cMbufFeWjKG"
      },
      "outputs": [],
      "source": [
        "transform = transforms.Compose([\n",
        "    transforms.Resize((input_size, input_size)),   # Resize the image to the desired input size\n",
        "    transforms.ToTensor(),                         # Convert the image to a tensor\n",
        "    transforms.Normalize(norm_mean, norm_std)       # Normalize the image with the given mean and standard deviation\n",
        "])"
      ]
    },
    {
      "cell_type": "code",
      "execution_count": 39,
      "metadata": {
        "id": "JFrjbyyYWntM"
      },
      "outputs": [],
      "source": [
        "img_pil = Image.fromarray(image)  # Convert the NumPy array to PIL Image\n",
        "transformed_img = transform(img_pil)"
      ]
    },
    {
      "cell_type": "code",
      "execution_count": 40,
      "metadata": {
        "id": "l7rh9g3GWuMU",
        "colab": {
          "base_uri": "https://localhost:8080/"
        },
        "outputId": "095c5e4b-cc09-4861-c1f3-2ba871f770a7"
      },
      "outputs": [
        {
          "output_type": "stream",
          "name": "stdout",
          "text": [
            "Cancerous lesion : 'Melanoma',  'Basal cell carcinoma',  'Melanocytic nevi',   'Actinic Keratoses'\n",
            "Non Cancerous lesion : 'Benign Keratosis', 'Vascular lesions',  'Dermafibroma'\n",
            "\n",
            "Your Result: Dermatofibroma\n"
          ]
        }
      ],
      "source": [
        "prediction = test(test_loader, model, criterion, optimizer, epoch,transformed_img)\n",
        "prediction\n",
        "\n",
        "lesion = df_val.loc[df_val['cell_type_idx'] == prediction, 'cell_type'].iloc[0]\n",
        "\n",
        "print(\"Cancerous lesion : 'Melanoma',  'Basal cell carcinoma',  'Melanocytic nevi',   'Actinic Keratoses'\")\n",
        "print(\"Non Cancerous lesion : 'Benign Keratosis', 'Vascular lesions',  'Dermafibroma'\\n\")\n",
        "print(\"Your Result: \" + lesion)"
      ]
    },
    {
      "cell_type": "code",
      "execution_count": 41,
      "metadata": {
        "id": "ls9Bk58gwckG",
        "colab": {
          "base_uri": "https://localhost:8080/",
          "height": 430
        },
        "outputId": "37b78223-2ad0-4f91-8818-249192529959"
      },
      "outputs": [
        {
          "output_type": "display_data",
          "data": {
            "text/plain": [
              "<Figure size 640x480 with 1 Axes>"
            ],
            "image/png": "[encoded data removed]"
          },
          "metadata": {}
        }
      ],
      "source": [
        "fig = plt.figure(num = 1)\n",
        "fig2 = fig.add_subplot(1,1,1)\n",
        "fig2.plot(total_acc_val, label = 'validation accuracy')\n",
        "fig2.plot(total_loss_val, label = 'validation loss')\n",
        "\n",
        "plt.legend()\n",
        "plt.show()"
      ]
    },
    {
      "cell_type": "code",
      "execution_count": 42,
      "metadata": {
        "id": "tMOyX6rcwckG",
        "colab": {
          "base_uri": "https://localhost:8080/",
          "height": 430
        },
        "outputId": "94ded0a5-f34c-401a-bce6-4b1a3f2ac7b7"
      },
      "outputs": [
        {
          "output_type": "display_data",
          "data": {
            "text/plain": [
              "<Figure size 640x480 with 1 Axes>"
            ],
            "image/png": "[encoded data removed]"
          },
          "metadata": {}
        }
      ],
      "source": [
        "fig = plt.figure(num=1)\n",
        "fig1 = fig.add_subplot(1,1,1)\n",
        "fig1.plot(total_acc_train, label = 'training accuracy')\n",
        "fig1.plot(total_loss_train, label = 'training loss')\n",
        "\n",
        "plt.legend()\n",
        "plt.show()"
      ]
    }
  ],
  "metadata": {
    "accelerator": "GPU",
    "colab": {
      "provenance": [],
      "gpuType": "T4"
    },
    "kernelspec": {
      "display_name": "Python 3",
      "name": "python3"
    },
    "language_info": {
      "codemirror_mode": {
        "name": "ipython",
        "version": 3
      },
      "file_extension": ".py",
      "mimetype": "text/x-python",
      "name": "python",
      "nbconvert_exporter": "python",
      "pygments_lexer": "ipython3",
      "version": "3.9.1"
    }
  },
  "nbformat": 4,
  "nbformat_minor": 0
}